{
 "cells": [
  {
   "cell_type": "markdown",
   "id": "dfda61ca",
   "metadata": {},
   "source": [
    "### Q1"
   ]
  },
  {
   "cell_type": "code",
   "execution_count": 12,
   "id": "11633c5b",
   "metadata": {},
   "outputs": [
    {
     "name": "stdout",
     "output_type": "stream",
     "text": [
      "[10, 12, 14]\n",
      "[3, 5, 7]\n",
      "[5, 10, 15]\n",
      "+\n",
      "[10, 8, 6]\n",
      "[17, 15, 13]\n",
      "[15, 10, 5]\n",
      "=\n",
      "[20, 20, 20]\n",
      "[20, 20, 20]\n",
      "[20, 20, 20]\n"
     ]
    }
   ],
   "source": [
    "#Python Program to Add Two Matrices\n",
    "\n",
    "X = [[10, 12, 14], [3, 5, 7], [5, 10, 15]]\n",
    "\n",
    "Y =  [[10, 8, 6], [17, 15, 13], [15, 10, 5]]\n",
    "\n",
    "Sum = [[0, 0, 0], [0, 0, 0], [0, 0, 0]]\n",
    "\n",
    "for i in range(len(X)) :\n",
    "    for j in range(len(X[0])) :\n",
    "        Sum[i][j] = X[i][j] + Y[i][j]\n",
    "        \n",
    "for i in X:\n",
    "    print(i)\n",
    "print('+')\n",
    "for i in Y :\n",
    "    print(i)\n",
    "print('=')\n",
    "for r in Sum:\n",
    "    print(r)"
   ]
  },
  {
   "cell_type": "markdown",
   "id": "a1e6921d",
   "metadata": {},
   "source": [
    "### Q2"
   ]
  },
  {
   "cell_type": "code",
   "execution_count": 14,
   "id": "559a8809",
   "metadata": {},
   "outputs": [
    {
     "name": "stdout",
     "output_type": "stream",
     "text": [
      "[10, 12, 14]\n",
      "[3, 5, 7]\n",
      "[5, 10, 15]\n",
      "*\n",
      "[10, 8, 6]\n",
      "[17, 15, 13]\n",
      "[15, 10, 5]\n",
      "=\n",
      "[514, 400, 286]\n",
      "[220, 169, 118]\n",
      "[445, 340, 235]\n"
     ]
    }
   ],
   "source": [
    "#Python Program to Multiply Two Matrices\n",
    "\n",
    "X = [[10, 12, 14], [3, 5, 7], [5, 10, 15]]\n",
    "\n",
    "Y =  [[10, 8, 6], [17, 15, 13], [15, 10, 5]]\n",
    "\n",
    "Mul = [[0, 0, 0], [0, 0, 0], [0, 0, 0]]\n",
    "\n",
    "for i in range(len(X)) :\n",
    "    for j in range(len(Y[0])) :\n",
    "        for k in range(len(Y)) :\n",
    "            Mul[i][j] += X[i][k] * Y[k][j]\n",
    "        \n",
    "for i in X:\n",
    "    print(i)\n",
    "print('*')\n",
    "for i in Y :\n",
    "    print(i)\n",
    "print('=')\n",
    "for r in Mul:\n",
    "    print(r)"
   ]
  },
  {
   "cell_type": "markdown",
   "id": "39385148",
   "metadata": {},
   "source": [
    "### Q3"
   ]
  },
  {
   "cell_type": "code",
   "execution_count": 16,
   "id": "38fbf2c1",
   "metadata": {},
   "outputs": [
    {
     "name": "stdout",
     "output_type": "stream",
     "text": [
      "Transpose of the given matrix is : \n",
      "[10, 3, 5]\n",
      "[12, 5, 10]\n",
      "[14, 7, 15]\n"
     ]
    }
   ],
   "source": [
    "#Python Program to Transpose a Matrix\n",
    "\n",
    "X = [[10, 12, 14], [3, 5, 7], [5, 10, 15]]\n",
    "\n",
    "result = [[0, 0, 0], [0, 0, 0], [0, 0, 0]]\n",
    "\n",
    "for i in range(len(X)) :\n",
    "    for j in range(len(X[0])) :\n",
    "        result[j][i] = X[i][j]\n",
    "        \n",
    "print(\"Transpose of the given matrix is : \")\n",
    "for r in result :\n",
    "    print(r)"
   ]
  },
  {
   "cell_type": "markdown",
   "id": "c88bd9ce",
   "metadata": {},
   "source": [
    "### Q4"
   ]
  },
  {
   "cell_type": "code",
   "execution_count": 33,
   "id": "4f05eea2",
   "metadata": {},
   "outputs": [
    {
     "name": "stdout",
     "output_type": "stream",
     "text": [
      "Enter a string :   By failing to prepare you are preparing to fail\n",
      "The sorted words are : \n",
      "are\n",
      "by\n",
      "fail\n",
      "failing\n",
      "prepare\n",
      "preparing\n",
      "to\n",
      "to\n",
      "you\n"
     ]
    }
   ],
   "source": [
    "#Python Program to Sort Words in Alphabetic Order\n",
    "\n",
    "my_str = input(\"Enter a string :   \")\n",
    "\n",
    "words = [word.lower() for word in my_str.split()]\n",
    "words.sort()\n",
    "\n",
    "print(\"The sorted words are : \")\n",
    "for word in words :\n",
    "    print(word)"
   ]
  },
  {
   "cell_type": "markdown",
   "id": "3958cf74",
   "metadata": {},
   "source": [
    "### Q5"
   ]
  },
  {
   "cell_type": "code",
   "execution_count": 39,
   "id": "ae7b6067",
   "metadata": {},
   "outputs": [
    {
     "name": "stdout",
     "output_type": "stream",
     "text": [
      "Enter the string with punctuations :   Woow !! its great work, said M to V\n",
      "The string after removing the punctuations is :   Woow  its great work said M to V\n"
     ]
    }
   ],
   "source": [
    "#Python Program to Remove Punctuation From a String\n",
    "\n",
    "punctuations = '''!()-[]{};:'\"\\,<>./?@#$%^&*_~'''\n",
    "\n",
    "my_str = input(\"Enter the string with punctuations :   \")\n",
    "\n",
    "no_punct = \" \"\n",
    "for char in my_str :\n",
    "    if char not in punctuations :\n",
    "        no_punct = no_punct + char\n",
    "\n",
    "print(\"The string after removing the punctuations is : \", no_punct)"
   ]
  }
 ],
 "metadata": {
  "kernelspec": {
   "display_name": "Python 3",
   "language": "python",
   "name": "python3"
  },
  "language_info": {
   "codemirror_mode": {
    "name": "ipython",
    "version": 3
   },
   "file_extension": ".py",
   "mimetype": "text/x-python",
   "name": "python",
   "nbconvert_exporter": "python",
   "pygments_lexer": "ipython3",
   "version": "3.7.6"
  }
 },
 "nbformat": 4,
 "nbformat_minor": 5
}
