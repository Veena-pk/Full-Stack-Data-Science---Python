{
 "cells": [
  {
   "cell_type": "markdown",
   "metadata": {},
   "source": [
    "### Q1"
   ]
  },
  {
   "cell_type": "code",
   "execution_count": 8,
   "metadata": {},
   "outputs": [
    {
     "name": "stdout",
     "output_type": "stream",
     "text": [
      "Enter the number in km to be converted to miles:       1\n",
      "The distance in miles corresponding to 1 km is 0.621 miles\n"
     ]
    }
   ],
   "source": [
    "# Python program to convert kilometers to miles\n",
    "\n",
    "dist_in_km = int(input(\"Enter the number in km to be converted to miles:       \"))\n",
    "\n",
    "dist_in_miles = dist_in_km * 0.62137\n",
    "dist_in_miles = round(dist_in_miles, 3)\n",
    "\n",
    "print(\"The distance in miles corresponding to {} km is {} miles\".format(dist_in_km, dist_in_miles))"
   ]
  },
  {
   "cell_type": "markdown",
   "metadata": {},
   "source": [
    "### Q2"
   ]
  },
  {
   "cell_type": "code",
   "execution_count": 9,
   "metadata": {},
   "outputs": [
    {
     "name": "stdout",
     "output_type": "stream",
     "text": [
      "Enter the temperature in Celsius to be converted to Farhenheit:         0\n",
      "The temperature in Farenheit corresponding to 0 degree Celcius is 32.0 degree Farenheit\n"
     ]
    }
   ],
   "source": [
    "# Python program to convert Celsius to Fahrenheit\n",
    "\n",
    "temp_celsius = int(input(\"Enter the temperature in Celsius to be converted to Farhenheit:         \"))\n",
    "\n",
    "temp_fahrenheit = (temp_celsius * 9/5) + 32\n",
    "\n",
    "print(\"The temperature in Farenheit corresponding to {} degree Celcius is {} degree Farenheit\".format(temp_celsius, temp_fahrenheit))"
   ]
  },
  {
   "cell_type": "markdown",
   "metadata": {},
   "source": [
    "### Q3"
   ]
  },
  {
   "cell_type": "code",
   "execution_count": 2,
   "metadata": {},
   "outputs": [
    {
     "name": "stdout",
     "output_type": "stream",
     "text": [
      "Enter the calender year to be displayed:            2021\n",
      "Enter the calender month to be displayed:            9\n",
      "   September 2021\n",
      "Mo Tu We Th Fr Sa Su\n",
      "       1  2  3  4  5\n",
      " 6  7  8  9 10 11 12\n",
      "13 14 15 16 17 18 19\n",
      "20 21 22 23 24 25 26\n",
      "27 28 29 30\n",
      "\n",
      "                                  2021\n",
      "\n",
      "      January                   February                   March\n",
      "Mo Tu We Th Fr Sa Su      Mo Tu We Th Fr Sa Su      Mo Tu We Th Fr Sa Su\n",
      "             1  2  3       1  2  3  4  5  6  7       1  2  3  4  5  6  7\n",
      " 4  5  6  7  8  9 10       8  9 10 11 12 13 14       8  9 10 11 12 13 14\n",
      "11 12 13 14 15 16 17      15 16 17 18 19 20 21      15 16 17 18 19 20 21\n",
      "18 19 20 21 22 23 24      22 23 24 25 26 27 28      22 23 24 25 26 27 28\n",
      "25 26 27 28 29 30 31                                29 30 31\n",
      "\n",
      "       April                      May                       June\n",
      "Mo Tu We Th Fr Sa Su      Mo Tu We Th Fr Sa Su      Mo Tu We Th Fr Sa Su\n",
      "          1  2  3  4                      1  2          1  2  3  4  5  6\n",
      " 5  6  7  8  9 10 11       3  4  5  6  7  8  9       7  8  9 10 11 12 13\n",
      "12 13 14 15 16 17 18      10 11 12 13 14 15 16      14 15 16 17 18 19 20\n",
      "19 20 21 22 23 24 25      17 18 19 20 21 22 23      21 22 23 24 25 26 27\n",
      "26 27 28 29 30            24 25 26 27 28 29 30      28 29 30\n",
      "                          31\n",
      "\n",
      "        July                     August                  September\n",
      "Mo Tu We Th Fr Sa Su      Mo Tu We Th Fr Sa Su      Mo Tu We Th Fr Sa Su\n",
      "          1  2  3  4                         1             1  2  3  4  5\n",
      " 5  6  7  8  9 10 11       2  3  4  5  6  7  8       6  7  8  9 10 11 12\n",
      "12 13 14 15 16 17 18       9 10 11 12 13 14 15      13 14 15 16 17 18 19\n",
      "19 20 21 22 23 24 25      16 17 18 19 20 21 22      20 21 22 23 24 25 26\n",
      "26 27 28 29 30 31         23 24 25 26 27 28 29      27 28 29 30\n",
      "                          30 31\n",
      "\n",
      "      October                   November                  December\n",
      "Mo Tu We Th Fr Sa Su      Mo Tu We Th Fr Sa Su      Mo Tu We Th Fr Sa Su\n",
      "             1  2  3       1  2  3  4  5  6  7             1  2  3  4  5\n",
      " 4  5  6  7  8  9 10       8  9 10 11 12 13 14       6  7  8  9 10 11 12\n",
      "11 12 13 14 15 16 17      15 16 17 18 19 20 21      13 14 15 16 17 18 19\n",
      "18 19 20 21 22 23 24      22 23 24 25 26 27 28      20 21 22 23 24 25 26\n",
      "25 26 27 28 29 30 31      29 30                     27 28 29 30 31\n",
      "\n"
     ]
    }
   ],
   "source": [
    "# Python program to display the calender\n",
    "\n",
    "import calendar\n",
    "\n",
    "yy = int(input(\"Enter the calender year to be displayed:            \"))\n",
    "mm = int(input(\"Enter the calender month to be displayed:            \"))\n",
    "\n",
    "print(calendar.month(yy, mm))\n",
    "print(calendar.calendar(yy))"
   ]
  },
  {
   "cell_type": "markdown",
   "metadata": {},
   "source": [
    "### Q4"
   ]
  },
  {
   "cell_type": "code",
   "execution_count": 16,
   "metadata": {},
   "outputs": [
    {
     "name": "stdout",
     "output_type": "stream",
     "text": [
      "Enter the value of a in your second degree quadratic expression:       1\n",
      "Enter the value of b in your second degree quadratic expression:       -7\n",
      "Enter the value of c in your second degree quadratic expression:       12\n",
      "The roots of the quadratic equation are (4+0j) and (3+0j)\n"
     ]
    }
   ],
   "source": [
    "# Python program to solve the quadratic equation(Second degree quadratic equation)\n",
    "import cmath\n",
    "\n",
    "a = int(input(\"Enter the value of a in your second degree quadratic expression:       \"))\n",
    "b = int(input(\"Enter the value of b in your second degree quadratic expression:       \"))\n",
    "c = int(input(\"Enter the value of c in your second degree quadratic expression:       \"))\n",
    "\n",
    "if a == 0 :\n",
    "    print(\"The entered equation is not quadratic\")\n",
    "    \n",
    "else :\n",
    "    d = (b **2 ) - (4 * a * c)\n",
    "    \n",
    "    ans1 = (-b + cmath.sqrt(d)) / (2 * a)\n",
    "    ans2 = (-b - cmath.sqrt(d)) / (2 * a)\n",
    "    \n",
    "    print(\"The roots of the quadratic equation are {} and {}\".format(ans1,ans2))"
   ]
  },
  {
   "cell_type": "markdown",
   "metadata": {},
   "source": [
    "### Q5"
   ]
  },
  {
   "cell_type": "code",
   "execution_count": 11,
   "metadata": {},
   "outputs": [
    {
     "name": "stdout",
     "output_type": "stream",
     "text": [
      "Enter the first variable   a :       10\n",
      "Enter the second variable   b :     50\n",
      "The variables after swapping a = 50 and b = 10\n"
     ]
    }
   ],
   "source": [
    "#Python program to swap two variables without temp variable\n",
    "\n",
    "a = input(\"Enter the first variable   a :       \")\n",
    "b = input(\"Enter the second variable   b :     \")\n",
    "\n",
    "a, b = b, a\n",
    "\n",
    "print(\"The variables after swapping a = {} and b = {}\".format(a, b))\n"
   ]
  }
 ],
 "metadata": {
  "kernelspec": {
   "display_name": "Python 3",
   "language": "python",
   "name": "python3"
  },
  "language_info": {
   "codemirror_mode": {
    "name": "ipython",
    "version": 3
   },
   "file_extension": ".py",
   "mimetype": "text/x-python",
   "name": "python",
   "nbconvert_exporter": "python",
   "pygments_lexer": "ipython3",
   "version": "3.7.6"
  }
 },
 "nbformat": 4,
 "nbformat_minor": 4
}
