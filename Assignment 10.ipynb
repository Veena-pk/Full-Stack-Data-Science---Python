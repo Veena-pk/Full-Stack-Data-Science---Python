{
 "cells": [
  {
   "cell_type": "markdown",
   "id": "7c36dc77",
   "metadata": {},
   "source": [
    "### Q1"
   ]
  },
  {
   "cell_type": "code",
   "execution_count": 9,
   "id": "f747f442",
   "metadata": {},
   "outputs": [
    {
     "name": "stdout",
     "output_type": "stream",
     "text": [
      "Enter the number of elements in the list : 5\n",
      "Enter the elements of the list :  1\n",
      "Enter the elements of the list :  2\n",
      "Enter the elements of the list :  3\n",
      "Enter the elements of the list :  4\n",
      "Enter the elements of the list :  5\n",
      "The sum of elements in the given list is  15\n"
     ]
    }
   ],
   "source": [
    "# Python program to find sum of elements in list\n",
    "\n",
    "l = []\n",
    "\n",
    "num = int(input(\"Enter the number of elements in the list : \"))\n",
    "\n",
    "for i in range(1, num + 1) :\n",
    "    element = int(input(\"Enter the elements of the list :  \"))\n",
    "    l.append(element)\n",
    "    \n",
    "sum = 0\n",
    "\n",
    "for i in range(0, num) :\n",
    "    sum = sum + l[i]\n",
    "    \n",
    "print(\"The sum of elements in the given list is \", sum)"
   ]
  },
  {
   "cell_type": "markdown",
   "id": "a4af5549",
   "metadata": {},
   "source": [
    "### Q2"
   ]
  },
  {
   "cell_type": "code",
   "execution_count": 4,
   "id": "b6fd6fd4",
   "metadata": {},
   "outputs": [
    {
     "name": "stdout",
     "output_type": "stream",
     "text": [
      "The multiplication of elements in the given list is  720\n"
     ]
    }
   ],
   "source": [
    "# Python program to Multiply all numbers in the list\n",
    "\n",
    "l = [10, 9, 8]\n",
    "mul = 1\n",
    "\n",
    "for i in range(0, len(l)) :\n",
    "    mul = mul * l[i]\n",
    "    \n",
    "print(\"The multiplication of elements in the given list is \", mul)"
   ]
  },
  {
   "cell_type": "markdown",
   "id": "dc19b9bc",
   "metadata": {},
   "source": [
    "### Q3"
   ]
  },
  {
   "cell_type": "code",
   "execution_count": 7,
   "id": "c2d3d78e",
   "metadata": {},
   "outputs": [
    {
     "name": "stdout",
     "output_type": "stream",
     "text": [
      "Enter the number of elements in the list : 5\n",
      "Enter the elements of the list :  12\n",
      "Enter the elements of the list :  24\n",
      "Enter the elements of the list :  1\n",
      "Enter the elements of the list :  0\n",
      "Enter the elements of the list :  98\n",
      "The smallest element in the given list is :  0\n"
     ]
    }
   ],
   "source": [
    "#Python program to find smallest number in a list\n",
    "\n",
    "lis = []\n",
    "\n",
    "num = int(input(\"Enter the number of elements in the list : \"))\n",
    "\n",
    "for i in range(1, num + 1) :\n",
    "    element = int(input(\"Enter the elements of the list :  \"))\n",
    "    lis.append(element)\n",
    "    \n",
    "print(\"The smallest element in the given list is : \", min(lis))"
   ]
  },
  {
   "cell_type": "markdown",
   "id": "15d9e8d6",
   "metadata": {},
   "source": [
    "### Q4"
   ]
  },
  {
   "cell_type": "code",
   "execution_count": 11,
   "id": "08e95b1f",
   "metadata": {},
   "outputs": [
    {
     "name": "stdout",
     "output_type": "stream",
     "text": [
      "Enter the number of elements in the list : 3\n",
      "Enter the elements of the list :  48\n",
      "Enter the elements of the list :  99\n",
      "Enter the elements of the list :  52\n",
      "The largest element in the given list is :  99\n"
     ]
    }
   ],
   "source": [
    "#Python program to find largest number in a list\n",
    "\n",
    "lis = []\n",
    "\n",
    "num = int(input(\"Enter the number of elements in the list : \"))\n",
    "\n",
    "for i in range(1, num + 1) :\n",
    "    element = int(input(\"Enter the elements of the list :  \"))\n",
    "    lis.append(element)\n",
    "    \n",
    "print(\"The largest element in the given list is : \", max(lis))"
   ]
  },
  {
   "cell_type": "markdown",
   "id": "7815a6f0",
   "metadata": {},
   "source": [
    "### Q5"
   ]
  },
  {
   "cell_type": "code",
   "execution_count": 13,
   "id": "76da7389",
   "metadata": {},
   "outputs": [
    {
     "name": "stdout",
     "output_type": "stream",
     "text": [
      "The second largest number in the given list is :  98\n"
     ]
    }
   ],
   "source": [
    "# Python program to find second largest number in a list\n",
    "\n",
    "l = [3, 67, 12, 98, 43, 99]\n",
    "\n",
    "l.sort()\n",
    "print(\"The second largest number in the given list is : \", l[-2])"
   ]
  },
  {
   "cell_type": "markdown",
   "id": "31d8cb97",
   "metadata": {},
   "source": [
    "### Q6"
   ]
  },
  {
   "cell_type": "code",
   "execution_count": 15,
   "id": "e5bf7d09",
   "metadata": {},
   "outputs": [
    {
     "name": "stdout",
     "output_type": "stream",
     "text": [
      "Enter the number of elements in the list : 5\n",
      "Enter the elements of the list :  45\n",
      "Enter the elements of the list :  78\n",
      "Enter the elements of the list :  99\n",
      "Enter the elements of the list :  65\n",
      "Enter the elements of the list :  12\n",
      "How many largest number you like to print? : 3\n",
      "[65, 78, 99]\n"
     ]
    }
   ],
   "source": [
    "# Python program to find N largest elements from a list\n",
    "\n",
    "lis = []\n",
    "\n",
    "num = int(input(\"Enter the number of elements in the list : \"))\n",
    "\n",
    "for i in range(1, num + 1) :\n",
    "    element = int(input(\"Enter the elements of the list :  \"))\n",
    "    lis.append(element)\n",
    "    \n",
    "n = int(input(\"How many largest number you like to print? : \"))\n",
    "\n",
    "lis.sort()\n",
    "print(lis[-n:])"
   ]
  },
  {
   "cell_type": "markdown",
   "id": "37e9fc70",
   "metadata": {},
   "source": [
    "### Q7"
   ]
  },
  {
   "cell_type": "code",
   "execution_count": 28,
   "id": "30eb3529",
   "metadata": {},
   "outputs": [
    {
     "name": "stdout",
     "output_type": "stream",
     "text": [
      "[36, 76, 764]\n"
     ]
    }
   ],
   "source": [
    "# Python program to print even numbers in a list\n",
    "\n",
    "l_even = []\n",
    "def checkeven(l) :\n",
    "    for num in l :\n",
    "        if(num%2 == 0) :\n",
    "            l_even.append(num)\n",
    "    return l_even\n",
    "\n",
    "l =[3, 36, 23, 55, 76, 99, 764, 987]\n",
    "print(checkeven(l))\n"
   ]
  },
  {
   "cell_type": "markdown",
   "id": "33f35e05",
   "metadata": {},
   "source": [
    "### Q8"
   ]
  },
  {
   "cell_type": "code",
   "execution_count": 29,
   "id": "1208fd99",
   "metadata": {},
   "outputs": [
    {
     "name": "stdout",
     "output_type": "stream",
     "text": [
      "[3, 23, 55, 99, 987]\n"
     ]
    }
   ],
   "source": [
    "# Python program to print odd numbers in a List\n",
    "\n",
    "l_odd = []\n",
    "def checkodd(l) :\n",
    "    for num in l :\n",
    "        if(num%2 == 1) :\n",
    "            l_odd.append(num)\n",
    "    return l_odd\n",
    "\n",
    "l =[3, 36, 23, 55, 76, 99, 764, 987]\n",
    "print(checkodd(l))"
   ]
  },
  {
   "cell_type": "markdown",
   "id": "f5f791f0",
   "metadata": {},
   "source": [
    "### Q9"
   ]
  },
  {
   "cell_type": "code",
   "execution_count": 32,
   "id": "5ecf8e32",
   "metadata": {},
   "outputs": [
    {
     "name": "stdout",
     "output_type": "stream",
     "text": [
      "The original list is : [12, 90, [], 56, 9, [], 67, [], 34, 90, 23, [], [], 6]\n",
      "The list after removing empty list is : [12, 90, 56, 9, 67, 34, 90, 23, 6]\n"
     ]
    }
   ],
   "source": [
    "# Python program to Remove empty List from List\n",
    "\n",
    "lis = [12, 90, [], 56, 9, [], 67, [], 34, 90, 23, [], [], 6]\n",
    "\n",
    "print(\"The original list is : \" + str(lis))\n",
    "\n",
    "final_list = [i for i in lis if i != []]\n",
    "print(\"The list after removing empty list is : \"+ str(final_list))"
   ]
  },
  {
   "cell_type": "markdown",
   "id": "933cd0c4",
   "metadata": {},
   "source": [
    "### Q10"
   ]
  },
  {
   "cell_type": "code",
   "execution_count": 33,
   "id": "06544310",
   "metadata": {},
   "outputs": [
    {
     "name": "stdout",
     "output_type": "stream",
     "text": [
      "The original list is :  [2, 5, 8, 12, 0, 78, 99]\n",
      "The cloned list is :  [2, 5, 8, 12, 0, 78, 99]\n"
     ]
    }
   ],
   "source": [
    "# Python program to Cloning or Copying a list\n",
    "\n",
    "def clone(l):\n",
    "    l_copy = [i for i in l]\n",
    "    return l\n",
    "\n",
    "l = [2, 5, 8, 12, 0, 78, 99]\n",
    "l1 = clone(l)\n",
    "print(\"The Original list is : \", l)\n",
    "print(\"The Cloned list is : \", l1)"
   ]
  },
  {
   "cell_type": "markdown",
   "id": "3229f50a",
   "metadata": {},
   "source": [
    "### Q11"
   ]
  },
  {
   "cell_type": "code",
   "execution_count": 47,
   "id": "3a683cde",
   "metadata": {},
   "outputs": [
    {
     "name": "stdout",
     "output_type": "stream",
     "text": [
      "The Original list is :  [2, 5, 8, 2, 12, 11, 0, 78, 2, 99, 34, 2, 5, 0, 0, 78]\n",
      "Enter the number to get the count in the given list :  4\n",
      "The number of 4 in the given list is : 0\n"
     ]
    }
   ],
   "source": [
    "# Python program to Count occurrences of an element in a list\n",
    "\n",
    "def counter(lst, n) :\n",
    "    total = lst.count(n)\n",
    "    return total\n",
    "l = [2, 5, 8, 2, 12, 11, 0, 78, 2, 99, 34, 2, 5, 0, 0, 78]\n",
    "print(\"The Original list is : \", l)\n",
    "n = int(input(\"Enter the number to get the count in the given list :  \"))\n",
    "\n",
    "tot = counter(l, n)\n",
    "print(\"The number of {} in the given list is : {}\".format(n, tot))"
   ]
  }
 ],
 "metadata": {
  "kernelspec": {
   "display_name": "Python 3",
   "language": "python",
   "name": "python3"
  },
  "language_info": {
   "codemirror_mode": {
    "name": "ipython",
    "version": 3
   },
   "file_extension": ".py",
   "mimetype": "text/x-python",
   "name": "python",
   "nbconvert_exporter": "python",
   "pygments_lexer": "ipython3",
   "version": "3.7.6"
  }
 },
 "nbformat": 4,
 "nbformat_minor": 5
}
