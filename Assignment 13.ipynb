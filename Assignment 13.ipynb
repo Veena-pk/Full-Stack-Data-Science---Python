{
 "cells": [
  {
   "cell_type": "markdown",
   "id": "287cafa5",
   "metadata": {},
   "source": [
    "### Q1"
   ]
  },
  {
   "cell_type": "code",
   "execution_count": 7,
   "id": "86d45c0c",
   "metadata": {},
   "outputs": [
    {
     "name": "stdout",
     "output_type": "stream",
     "text": [
      "Enter the values of D : 100,150,180\n",
      "The result of the calculation is : \n",
      "18,22,24\n"
     ]
    }
   ],
   "source": [
    "# Write a program that calculates and prints the value according to the given formula: Q = Square root of [(2 * C * D)/H], C is 50. H is 30.\n",
    "\n",
    "import math\n",
    "C = 50\n",
    "H = 30\n",
    "value = []\n",
    "items = [x for x in input(\"Enter the values of D : \").split(',')]\n",
    "for d in items : \n",
    "    value.append(str(int(round(math.sqrt(2*C*float(d)/H)))))\n",
    "print(\"The result of the calculation is : \")\n",
    "print(','.join(value))"
   ]
  },
  {
   "cell_type": "markdown",
   "id": "532c8ce3",
   "metadata": {},
   "source": [
    "### Q2"
   ]
  },
  {
   "cell_type": "code",
   "execution_count": 11,
   "id": "c85dd793",
   "metadata": {},
   "outputs": [
    {
     "name": "stdout",
     "output_type": "stream",
     "text": [
      "Enter the number of Rows : 3\n",
      "Enter the number of Columns : 5\n",
      "The resultant matrix is :  [[0, 0, 0, 0, 0], [0, 1, 2, 3, 4], [0, 2, 4, 6, 8]]\n"
     ]
    }
   ],
   "source": [
    "# Program which takes 2 digits, X,Y as input & generates a 2-D array. The element value in the i-th row and j-th column of the array  be i*j.\n",
    "\n",
    "m = int(input(\"Enter the number of Rows : \"))\n",
    "n = int(input(\"Enter the number of Columns : \"))\n",
    "matrix = [[0 for col in range(n)]for row in range(m)]\n",
    "for row in range(m) :\n",
    "    for col in range(n) :\n",
    "        matrix[row][col] = row * col\n",
    "print(\"The resultant matrix is : \", matrix)"
   ]
  },
  {
   "cell_type": "markdown",
   "id": "ce0f4e59",
   "metadata": {},
   "source": [
    "### Q3"
   ]
  },
  {
   "cell_type": "code",
   "execution_count": 13,
   "id": "7792c5d8",
   "metadata": {},
   "outputs": [
    {
     "name": "stdout",
     "output_type": "stream",
     "text": [
      "Enter the wordswithout,hello,bag,world\n",
      "The words after sorting is : \n",
      "bag,hello,without,world\n"
     ]
    }
   ],
   "source": [
    "# comma separated sequence of words as input and prints the words in a comma-separated sequence after sorting them alphabetically.\n",
    "\n",
    "items = input(\"Enter the words\")\n",
    "words = [word for word in items.split(\",\")]\n",
    "print(\"The words after sorting is : \")\n",
    "print(\",\".join(sorted(list(set(words)))))"
   ]
  },
  {
   "cell_type": "markdown",
   "id": "3728fede",
   "metadata": {},
   "source": [
    "### Q4"
   ]
  },
  {
   "cell_type": "code",
   "execution_count": 14,
   "id": "b6eab64b",
   "metadata": {},
   "outputs": [
    {
     "name": "stdout",
     "output_type": "stream",
     "text": [
      "Enter the sentance : hello world and practice makes perfect and hello world again\n",
      "The words after sorting is : \n",
      "again and hello makes perfect practice world\n"
     ]
    }
   ],
   "source": [
    "# whitespace separated words as input and prints the words after removing all duplicate words and sorting them alphanumerically.\n",
    "\n",
    "sentance = input(\"Enter the sentance : \")\n",
    "sentance_splited = sentance.split(' ')\n",
    "\n",
    "word_list = []\n",
    "for i in sentance_splited :\n",
    "    if i not in word_list :\n",
    "        word_list.append(i)\n",
    "    else :\n",
    "        continue\n",
    "        \n",
    "word_list.sort()\n",
    "print(\"The words after sorting is : \")\n",
    "print(' '.join(word_list))"
   ]
  },
  {
   "cell_type": "markdown",
   "id": "30067040",
   "metadata": {},
   "source": [
    "### Q5"
   ]
  },
  {
   "cell_type": "code",
   "execution_count": 17,
   "id": "7f29b7c5",
   "metadata": {},
   "outputs": [
    {
     "name": "stdout",
     "output_type": "stream",
     "text": [
      "Enter the sentance : hello world! 123\n",
      "LETTERS :  10\n",
      "DIGITS :  3\n"
     ]
    }
   ],
   "source": [
    "# Write a program that accepts a sentence and calculate the number of letters and digits.\n",
    "\n",
    "sentance = input(\"Enter the sentance : \")\n",
    "sentance = list(sentance)\n",
    "l = 0\n",
    "d = 0\n",
    "for i in sentance :\n",
    "    if i.isalpha() :\n",
    "        l = l+ 1\n",
    "    if i.isdigit() :\n",
    "        d = d + 1\n",
    "    else :\n",
    "        pass\n",
    "\n",
    "print(\"LETTERS : \", l)\n",
    "print(\"DIGITS : \", d)"
   ]
  },
  {
   "cell_type": "markdown",
   "id": "770f65a9",
   "metadata": {},
   "source": [
    "### Q6"
   ]
  },
  {
   "cell_type": "code",
   "execution_count": 27,
   "id": "6af42eda",
   "metadata": {},
   "outputs": [
    {
     "name": "stdout",
     "output_type": "stream",
     "text": [
      "Type the passwords to be checked : ABd1234@1,a F1#,2w3E*,2We3345\n",
      "Valid passwords are : \n",
      "ABd1234@1\n"
     ]
    }
   ],
   "source": [
    "# A website requires the users to input username and password to register. Write a program to check the validity of password input by users.\n",
    "\n",
    "import re\n",
    "\n",
    "passwords = input(\"Type the passwords to be checked : \")\n",
    "passwords = passwords.split(',')\n",
    "\n",
    "valid_pass = []\n",
    "\n",
    "for i in passwords : \n",
    "    if len(i) < 6 or len(i) > 12 :\n",
    "        continue\n",
    "    \n",
    "    elif not re.search(\"([a-z])\", i) :\n",
    "        continue\n",
    "        \n",
    "    elif not re.search(\"([A-Z])\", i) :\n",
    "        continue\n",
    "        \n",
    "    elif not re.search(\"([0-9])\", i) :\n",
    "        continue\n",
    "        \n",
    "    elif not re.search(\"([$#@])\", i) :\n",
    "        continue\n",
    "        \n",
    "    else :\n",
    "        valid_pass.append(i)\n",
    "print(\"Valid passwords are : \")        \n",
    "print((\" \").join(valid_pass))"
   ]
  }
 ],
 "metadata": {
  "kernelspec": {
   "display_name": "Python 3",
   "language": "python",
   "name": "python3"
  },
  "language_info": {
   "codemirror_mode": {
    "name": "ipython",
    "version": 3
   },
   "file_extension": ".py",
   "mimetype": "text/x-python",
   "name": "python",
   "nbconvert_exporter": "python",
   "pygments_lexer": "ipython3",
   "version": "3.7.6"
  }
 },
 "nbformat": 4,
 "nbformat_minor": 5
}
