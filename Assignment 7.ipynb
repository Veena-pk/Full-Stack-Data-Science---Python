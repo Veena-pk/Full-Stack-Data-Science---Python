{
 "cells": [
  {
   "cell_type": "markdown",
   "id": "be2f4563",
   "metadata": {},
   "source": [
    "### Q1"
   ]
  },
  {
   "cell_type": "code",
   "execution_count": 3,
   "id": "0fbdc30a",
   "metadata": {},
   "outputs": [
    {
     "name": "stdout",
     "output_type": "stream",
     "text": [
      "The sum of all the elements in the given array is 280\n"
     ]
    }
   ],
   "source": [
    "#Program to find sum of array\n",
    "\n",
    "arr = [ 10, 20, 30, 40, 50, 60, 70]\n",
    "sum = 0\n",
    "\n",
    "for i in range(0, len(arr)) :\n",
    "    sum = sum + arr[i]\n",
    "    \n",
    "print(\"The sum of all the elements in the given array is\", sum)"
   ]
  },
  {
   "cell_type": "markdown",
   "id": "59d1e568",
   "metadata": {},
   "source": [
    "### Q2"
   ]
  },
  {
   "cell_type": "code",
   "execution_count": 6,
   "id": "a27b638f",
   "metadata": {},
   "outputs": [
    {
     "name": "stdout",
     "output_type": "stream",
     "text": [
      "The largest element in the given array is 100\n"
     ]
    }
   ],
   "source": [
    "#Program to find largest element in an array\n",
    "\n",
    "arr = [100, 74, 12, 55, 97, 35, 64, 99, 12, 6]\n",
    "\n",
    "max = arr[0]\n",
    "\n",
    "for i in range(1, len(arr)) :\n",
    "    if (arr[i] > max) :\n",
    "        max = arr[i]\n",
    "        \n",
    "print(\"The largest element in the given array is\", max)"
   ]
  },
  {
   "cell_type": "markdown",
   "id": "a5576fc6",
   "metadata": {},
   "source": [
    "### Q3"
   ]
  },
  {
   "cell_type": "code",
   "execution_count": 16,
   "id": "6661a58e",
   "metadata": {},
   "outputs": [
    {
     "name": "stdout",
     "output_type": "stream",
     "text": [
      "The original array is :  [3, 6, 9, 12, 15, 18, 21, 24, 27, 30]\n",
      "Enter the number of times the array should be rotated :   15\n",
      "Array after rotation :  [18, 21, 24, 27, 30, 3, 6, 9, 12, 15]\n"
     ]
    }
   ],
   "source": [
    "#Program for array rotation\n",
    "\n",
    "arr = [ 3, 6, 9, 12, 15, 18, 21, 24, 27, 30]\n",
    "\n",
    "print(\"The original array is : \", arr)\n",
    "\n",
    "n = int(input(\"Enter the number of times the array should be rotated :   \"))\n",
    "\n",
    "for i in range(0, n) :\n",
    "    first = arr[0]\n",
    "    \n",
    "    for j in range(0, len(arr) - 1) :\n",
    "        arr[j] = arr[j+1]\n",
    "        \n",
    "    arr[len(arr) - 1] = first\n",
    "    \n",
    "print(\"Array after rotation : \", arr)"
   ]
  },
  {
   "cell_type": "markdown",
   "id": "d1d0a92c",
   "metadata": {},
   "source": [
    "### Q4"
   ]
  },
  {
   "cell_type": "code",
   "execution_count": 21,
   "id": "e5e75275",
   "metadata": {},
   "outputs": [
    {
     "name": "stdout",
     "output_type": "stream",
     "text": [
      "The array before splitting is :  [10, 4, 7, 8, 12, 90, 56, 3]\n",
      "Enter the position from which array to be splited :  4\n",
      "The array after splitting [12, 90, 56, 3, 10, 4, 7, 8]\n"
     ]
    }
   ],
   "source": [
    "#Program to Split the array and add the first part to the end\n",
    "\n",
    "arr = [ 10, 4, 7, 8, 12, 90, 56, 3]\n",
    "print(\"The array before splitting is : \", arr)\n",
    "k = int(input(\"Enter the position from which array to be splited :  \"))\n",
    "\n",
    "def split(arr, k) :\n",
    "    arr = arr[k : ] + arr[ : k]\n",
    "    return arr\n",
    "\n",
    "new_arr = split(arr, k)\n",
    "\n",
    "print(\"The array after splitting\", new_arr)"
   ]
  },
  {
   "cell_type": "markdown",
   "id": "4ad95943",
   "metadata": {},
   "source": [
    "### Q5"
   ]
  },
  {
   "cell_type": "code",
   "execution_count": 68,
   "id": "48e8446b",
   "metadata": {},
   "outputs": [
    {
     "name": "stdout",
     "output_type": "stream",
     "text": [
      "The given array is [9, 8, 7, 6, 5]\n",
      "The given array is monotonic : True\n",
      "The given array is [2, 8, 1, 5, 4]\n",
      "The given array is monotonic : False\n",
      "The given array is [1, 2, 3, 4, 5]\n",
      "The given array is monotonic : True\n"
     ]
    }
   ],
   "source": [
    "#Program to check if given array is Monotonic\n",
    "# Monotonic - An array is monotonic if the elements of the array are continuously increasing or continuously decreasing\n",
    "\n",
    "def checkmonotonic(arr) :\n",
    "    return (all(arr[i] <= arr[i+1] for i in range(len(arr) - 1)) or all(arr[i] >= arr[i+1] for i in range(len(arr) - 1)))\n",
    "               \n",
    "arr1 =  [ 9, 8, 7, 6, 5]\n",
    "print(\"The given array is\", arr1)\n",
    "print(\"The given array is monotonic :\" ,checkmonotonic(arr1))\n",
    "\n",
    "arr2 = [2, 8, 1, 5, 4]\n",
    "print(\"The given array is\", arr2)\n",
    "print(\"The given array is monotonic :\" ,checkmonotonic(arr2))\n",
    "\n",
    "arr3 = [ 1, 2, 3, 4, 5]\n",
    "print(\"The given array is\", arr3)\n",
    "print(\"The given array is monotonic :\" ,checkmonotonic(arr3))"
   ]
  }
 ],
 "metadata": {
  "kernelspec": {
   "display_name": "Python 3",
   "language": "python",
   "name": "python3"
  },
  "language_info": {
   "codemirror_mode": {
    "name": "ipython",
    "version": 3
   },
   "file_extension": ".py",
   "mimetype": "text/x-python",
   "name": "python",
   "nbconvert_exporter": "python",
   "pygments_lexer": "ipython3",
   "version": "3.7.6"
  }
 },
 "nbformat": 4,
 "nbformat_minor": 5
}
