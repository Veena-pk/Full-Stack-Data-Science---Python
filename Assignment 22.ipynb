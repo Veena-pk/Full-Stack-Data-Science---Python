{
 "cells": [
  {
   "cell_type": "markdown",
   "id": "287cafa5",
   "metadata": {},
   "source": [
    "### Q1\n",
    "- Return an ordered list with numbers in the range that are divisible by the third parameter n."
   ]
  },
  {
   "cell_type": "code",
   "execution_count": 2,
   "id": "86d45c0c",
   "metadata": {},
   "outputs": [
    {
     "name": "stdout",
     "output_type": "stream",
     "text": [
      "[3, 6, 9]\n",
      "[8]\n",
      "[]\n"
     ]
    }
   ],
   "source": [
    "def list_operation(x, y, n) :\n",
    "    return [i for i in range(x, y+1) if i % n == 0]\n",
    "\n",
    "print(list_operation(1, 10, 3))\n",
    "print(list_operation(7, 9, 2))\n",
    "print(list_operation(15, 20, 7))"
   ]
  },
  {
   "cell_type": "markdown",
   "id": "532c8ce3",
   "metadata": {},
   "source": [
    "### Q2\n",
    "- determine if the second list is the first list shifted to the right by 1."
   ]
  },
  {
   "cell_type": "code",
   "execution_count": 7,
   "id": "c85dd793",
   "metadata": {},
   "outputs": [
    {
     "name": "stdout",
     "output_type": "stream",
     "text": [
      "True\n",
      "False\n",
      "True\n",
      "False\n"
     ]
    }
   ],
   "source": [
    "def simon_says(lst1, lst2) :\n",
    "    return lst1[:-1] == lst2[1: ]\n",
    "print(simon_says([1, 2], [5, 1]))\n",
    "print(simon_says([1, 2], [5, 5]))\n",
    "print(simon_says([1, 2, 3, 4, 5], [0, 1, 2, 3, 4]))\n",
    "print(simon_says([1, 2, 3, 4, 5], [5, 5, 1, 2, 3]))"
   ]
  },
  {
   "cell_type": "markdown",
   "id": "ce0f4e59",
   "metadata": {},
   "source": [
    "### Q3\n",
    "- A group of friends have decided to start a secret society.The name will be the 1st letter of each of their names, sorted in alphabetical order."
   ]
  },
  {
   "cell_type": "code",
   "execution_count": 23,
   "id": "7792c5d8",
   "metadata": {},
   "outputs": [
    {
     "name": "stdout",
     "output_type": "stream",
     "text": [
      "AMS\n",
      "CHLN\n",
      "CJMPRR\n"
     ]
    }
   ],
   "source": [
    "def society_name(lst) :\n",
    "    wrd = ''\n",
    "    for i in range(len(lst)) :\n",
    "        wrd = wrd + lst[i][0] \n",
    "        wrd = ''.join(sorted(wrd))\n",
    "    return wrd\n",
    "print(society_name(['Adam', 'Sarah', 'Malcolm']))\n",
    "print(society_name(['Harry', 'Newt', 'Luna', 'Cho']))\n",
    "print(society_name(['Phoebe', 'Chandler', 'Rachel', 'Ross', 'Monica', 'Joey']))"
   ]
  },
  {
   "cell_type": "markdown",
   "id": "3728fede",
   "metadata": {},
   "source": [
    "### Q4\n",
    "- Create a function that takes a string and returns either True or False depending on whether or not it&#39;s an &quot;isogram&quot;."
   ]
  },
  {
   "cell_type": "code",
   "execution_count": 36,
   "id": "b6eab64b",
   "metadata": {},
   "outputs": [
    {
     "name": "stdout",
     "output_type": "stream",
     "text": [
      "True\n",
      "False\n",
      "False\n"
     ]
    }
   ],
   "source": [
    "def is_isogram(word) :\n",
    "    return len(word) ==len(set(word.lower()))\n",
    "print(is_isogram(\"Algorism\"))\n",
    "print(is_isogram(\"PasSword\"))\n",
    "print(is_isogram(\"Consecutive\"))"
   ]
  },
  {
   "cell_type": "markdown",
   "id": "30067040",
   "metadata": {},
   "source": [
    "### Q5\n",
    "- Create a function that takes a string and returns True or False, depending on whether the characters are in order or not."
   ]
  },
  {
   "cell_type": "code",
   "execution_count": 33,
   "id": "7f29b7c5",
   "metadata": {},
   "outputs": [
    {
     "name": "stdout",
     "output_type": "stream",
     "text": [
      "True\n",
      "False\n",
      "True\n",
      "True\n"
     ]
    }
   ],
   "source": [
    "def is_in_order(str) :\n",
    "    return str == \"\".join(sorted(str))\n",
    "print(is_in_order(\"abc\"))\n",
    "print(is_in_order(\"edabit\"))\n",
    "print(is_in_order(\"123\"))\n",
    "print(is_in_order(\"xyzz\"))"
   ]
  }
 ],
 "metadata": {
  "kernelspec": {
   "display_name": "Python 3",
   "language": "python",
   "name": "python3"
  },
  "language_info": {
   "codemirror_mode": {
    "name": "ipython",
    "version": 3
   },
   "file_extension": ".py",
   "mimetype": "text/x-python",
   "name": "python",
   "nbconvert_exporter": "python",
   "pygments_lexer": "ipython3",
   "version": "3.7.6"
  }
 },
 "nbformat": 4,
 "nbformat_minor": 5
}
