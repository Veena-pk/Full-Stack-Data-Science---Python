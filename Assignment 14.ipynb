{
 "cells": [
  {
   "cell_type": "markdown",
   "id": "287cafa5",
   "metadata": {},
   "source": [
    "### Q1\n",
    "- Define a class with a generator which can iterate the numbers, which are divisible by 7, between a given range 0 and n."
   ]
  },
  {
   "cell_type": "code",
   "execution_count": 34,
   "id": "86d45c0c",
   "metadata": {},
   "outputs": [
    {
     "name": "stdout",
     "output_type": "stream",
     "text": [
      "Enter the upper limit of the iteration : 100\n",
      "The numbers divisible by 7  range 0 to 100 are : \n",
      "0,7,14,21,28,35,42,49,56,63,70,77,84,91,98\n"
     ]
    }
   ],
   "source": [
    "def generator(n) :\n",
    "    for i in range(n+1) :\n",
    "        if i % 7 == 0 :\n",
    "            yield i\n",
    "out = [str(i) for i in generator(n)]\n",
    "\n",
    "n = int(input(\"Enter the upper limit of the iteration : \"))\n",
    "print(\"The numbers divisible by 7  range 0 to {} are : \".format(n))\n",
    "print(\",\".join(out))"
   ]
  },
  {
   "cell_type": "markdown",
   "id": "532c8ce3",
   "metadata": {},
   "source": [
    "### Q2\n",
    "- Write a program to compute the frequency of the words from the input. The output should output after sorting the key alphanumerically."
   ]
  },
  {
   "cell_type": "code",
   "execution_count": 11,
   "id": "c85dd793",
   "metadata": {},
   "outputs": [
    {
     "name": "stdout",
     "output_type": "stream",
     "text": [
      "Enter the sentance here : New to Python or choosing between Python 2 and Python 3? Read Python 2 or Python 3.\n",
      "2 : 2\n",
      "3. : 1\n",
      "3? : 1\n",
      "New : 1\n",
      "Python : 5\n",
      "Read : 1\n",
      "and : 1\n",
      "between : 1\n",
      "choosing : 1\n",
      "or : 2\n",
      "to : 1\n"
     ]
    }
   ],
   "source": [
    "sentance = input(\"Enter the sentance here : \").split()\n",
    "word = sorted(set(sentance))\n",
    "for i in word :\n",
    "    print(\"{} : {}\".format(i, sentance.count(i)))"
   ]
  },
  {
   "cell_type": "markdown",
   "id": "ce0f4e59",
   "metadata": {},
   "source": [
    "### Q3\n",
    "- Define a class Person and its two child classes: Male and Female. All classes have a method &quot;getGender&quot; which can print &quot;Male&quot; for Male class and &quot;Female&quot; for Female class."
   ]
  },
  {
   "cell_type": "code",
   "execution_count": 12,
   "id": "7792c5d8",
   "metadata": {},
   "outputs": [
    {
     "name": "stdout",
     "output_type": "stream",
     "text": [
      "Male\n",
      "Female\n"
     ]
    }
   ],
   "source": [
    "class Person(object) :\n",
    "    def getGender(self) :\n",
    "        return \"Unknown\"\n",
    "    \n",
    "class Male(Person) :\n",
    "    def getGender(self) :\n",
    "        return \"Male\"\n",
    "    \n",
    "class Female(Person) :\n",
    "    def getGender(self) :\n",
    "        return \"Female\"\n",
    "    \n",
    "aMale = Male()\n",
    "aFemale = Female()\n",
    "print(aMale.getGender())\n",
    "print(aFemale.getGender())"
   ]
  },
  {
   "cell_type": "markdown",
   "id": "3728fede",
   "metadata": {},
   "source": [
    "### Q4\n",
    "- Please write a program to generate all sentences where subject is in [I, You] and verb is in [Play, Love] and the object is in [Hockey,Football]."
   ]
  },
  {
   "cell_type": "code",
   "execution_count": 13,
   "id": "b6eab64b",
   "metadata": {},
   "outputs": [
    {
     "name": "stdout",
     "output_type": "stream",
     "text": [
      "I Play Hockey\n",
      "I Play Football\n",
      "I Love Hockey\n",
      "I Love Football\n",
      "You Play Hockey\n",
      "You Play Football\n",
      "You Love Hockey\n",
      "You Love Football\n"
     ]
    }
   ],
   "source": [
    "subjects = [\"I\", \"You\"]\n",
    "verbs = [\"Play\", \"Love\"]\n",
    "objects = [\"Hockey\", \"Football\"]\n",
    "\n",
    "for sub in subjects :\n",
    "    for verb in verbs :\n",
    "        for obj in objects :\n",
    "            print(\"{} {} {}\".format(sub, verb, obj))"
   ]
  },
  {
   "cell_type": "markdown",
   "id": "30067040",
   "metadata": {},
   "source": [
    "### Q5\n",
    "- Please write a program to compress and decompress the string \"hello world!hello world!hello world!hello world!\"."
   ]
  },
  {
   "cell_type": "code",
   "execution_count": 21,
   "id": "7f29b7c5",
   "metadata": {},
   "outputs": [
    {
     "name": "stdout",
     "output_type": "stream",
     "text": [
      "b'x\\x9c\\xcbH\\xcd\\xc9\\xc9W(\\xcf/\\xcaIQ\\xcc \\x82\\r\\x00\\xbd[\\x11\\xf5'\n",
      "b'hello world!hello world!hello world!hello world!'\n"
     ]
    }
   ],
   "source": [
    "import zlib\n",
    "sent = \"hello world!hello world!hello world!hello world!\".encode()\n",
    "comp_s= zlib.compress(sent)\n",
    "print(comp_s)\n",
    "print(zlib.decompress(comp_s))"
   ]
  },
  {
   "cell_type": "markdown",
   "id": "770f65a9",
   "metadata": {},
   "source": [
    "### Q6\n",
    "- Please write a binary search function which searches an item in a sorted list. The function should return the index of element to be searched in the list."
   ]
  },
  {
   "cell_type": "code",
   "execution_count": 30,
   "id": "6af42eda",
   "metadata": {},
   "outputs": [
    {
     "name": "stdout",
     "output_type": "stream",
     "text": [
      "3\n"
     ]
    }
   ],
   "source": [
    "def bin_search(lst, item) :\n",
    "    low = 0\n",
    "    high = len(lst) - 1\n",
    "    \n",
    "    while low <= high :\n",
    "        mid = round((low + high)/2)\n",
    "        \n",
    "        if lst[mid] == item :\n",
    "            return mid\n",
    "        elif lst[mid] > item :\n",
    "            high = mid - 1\n",
    "        else :\n",
    "            low = mid + 1\n",
    "    return None\n",
    "\n",
    "lst = [1, 3, 5, 7, 9]\n",
    "print(bin_search(lst, 7))"
   ]
  }
 ],
 "metadata": {
  "kernelspec": {
   "display_name": "Python 3",
   "language": "python",
   "name": "python3"
  },
  "language_info": {
   "codemirror_mode": {
    "name": "ipython",
    "version": 3
   },
   "file_extension": ".py",
   "mimetype": "text/x-python",
   "name": "python",
   "nbconvert_exporter": "python",
   "pygments_lexer": "ipython3",
   "version": "3.7.6"
  }
 },
 "nbformat": 4,
 "nbformat_minor": 5
}
