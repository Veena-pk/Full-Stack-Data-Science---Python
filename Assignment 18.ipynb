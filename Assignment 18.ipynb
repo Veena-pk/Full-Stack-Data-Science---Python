{
 "cells": [
  {
   "cell_type": "markdown",
   "id": "287cafa5",
   "metadata": {},
   "source": [
    "### Q1\n",
    "- Create a function that takes a list of non-negative integers and strings and return a new list without the strings."
   ]
  },
  {
   "cell_type": "code",
   "execution_count": 5,
   "id": "86d45c0c",
   "metadata": {},
   "outputs": [
    {
     "name": "stdout",
     "output_type": "stream",
     "text": [
      "The original list is  [1, 2, 'a', 'b']\n",
      "The list after removing the strings from the list is :  [1, 2]\n",
      "The original list is  [1, 'a', 'b', 0, 15]\n",
      "The list after removing the strings from the list is :  [1, 0, 15]\n",
      "The original list is  [1, 2, 'aasf', '1', '123', 123]\n",
      "The list after removing the strings from the list is :  [1, 2, 123]\n"
     ]
    }
   ],
   "source": [
    "def filter_list(l) :\n",
    "    new_list = []\n",
    "    for x in l :\n",
    "        if (type(x) == int) :\n",
    "            new_list.append(x)\n",
    "    return new_list\n",
    "\n",
    "l1 = [1, 2, 'a', 'b']\n",
    "l2 = [1, 'a', 'b', 0 , 15]\n",
    "l3 = [1, 2, 'aasf', '1', '123', 123]\n",
    "print(\"The original list is \", l1)\n",
    "print(\"The list after removing the strings from the list is : \", filter_list(l1))\n",
    "print(\"The original list is \", l2)\n",
    "print(\"The list after removing the strings from the list is : \", filter_list(l2))\n",
    "print(\"The original list is \", l3)\n",
    "print(\"The list after removing the strings from the list is : \", filter_list(l3))"
   ]
  },
  {
   "cell_type": "markdown",
   "id": "532c8ce3",
   "metadata": {},
   "source": [
    "### Q2\n",
    "- The &quot;Reverser&quot; takes a string as input and returns that string in reverse order, with the opposite case."
   ]
  },
  {
   "cell_type": "code",
   "execution_count": 14,
   "id": "c85dd793",
   "metadata": {},
   "outputs": [
    {
     "name": "stdout",
     "output_type": "stream",
     "text": [
      "Enter the string : Hello World\n",
      "The string after reversing is :  DLROw OLLEh\n"
     ]
    }
   ],
   "source": [
    "def reverse(s) :\n",
    "    s = s[: : -1]\n",
    "    return s.swapcase()\n",
    "s = input(\"Enter the string : \")\n",
    "print(\"The string after reversing is : \", reverse(s))"
   ]
  },
  {
   "cell_type": "markdown",
   "id": "ce0f4e59",
   "metadata": {},
   "source": [
    "### Q3\n",
    "- Create variables first, middle and last from the given list using destructuring assignment"
   ]
  },
  {
   "cell_type": "code",
   "execution_count": 75,
   "id": "7792c5d8",
   "metadata": {},
   "outputs": [
    {
     "name": "stdout",
     "output_type": "stream",
     "text": [
      "First element in the list is :  1\n",
      "Middle elements in the list is :  [2, 3, 4, 5]\n",
      "Last element in the list is :  6\n"
     ]
    }
   ],
   "source": [
    "lst = [1, 2, 3, 4, 5, 6]\n",
    "first, *middle, last = lst\n",
    "print(\"First element in the list is : \", first)\n",
    "print(\"Middle elements in the list is : \", middle)\n",
    "print(\"Last element in the list is : \", last)"
   ]
  },
  {
   "cell_type": "markdown",
   "id": "3728fede",
   "metadata": {},
   "source": [
    "### Q4\n",
    "- Write a function that calculates the factorial of a number recursively."
   ]
  },
  {
   "cell_type": "code",
   "execution_count": 24,
   "id": "b6eab64b",
   "metadata": {},
   "outputs": [
    {
     "name": "stdout",
     "output_type": "stream",
     "text": [
      "Enter the number to find factorial : 5\n",
      "The factorial is :  120\n"
     ]
    }
   ],
   "source": [
    "def factorial(num) :\n",
    "    if num == 0 :\n",
    "        return 1\n",
    "    else :\n",
    "        return num * factorial(num-1)\n",
    "n = int(input(\"Enter the number to find factorial : \"))\n",
    "\n",
    "print(\"The factorial is : \", factorial(n))"
   ]
  },
  {
   "cell_type": "markdown",
   "id": "30067040",
   "metadata": {},
   "source": [
    "### Q5\n",
    "- Write a function that moves all elements of one type to the end of the list."
   ]
  },
  {
   "cell_type": "code",
   "execution_count": 52,
   "id": "7f29b7c5",
   "metadata": {},
   "outputs": [
    {
     "name": "stdout",
     "output_type": "stream",
     "text": [
      "[3, 2, 4, 4, 1, 1]\n",
      "[7, 8, 1, 2, 3, 4, 9]\n",
      "['b', 'a', 'a', 'a', 'a']\n"
     ]
    }
   ],
   "source": [
    "def move_to_end(lst, x) :\n",
    "    a = [x for i in range(lst.count(x))]\n",
    "    b = [i for i in lst if i != x]\n",
    "    b.extend(a)\n",
    "    return(b)\n",
    "print(move_to_end([1, 3, 2, 4, 4, 1], 1))\n",
    "print(move_to_end([7, 8, 9, 1, 2, 3, 4], 9))\n",
    "print(move_to_end(['a', 'a', 'a', 'a', 'b'], 'a'))"
   ]
  }
 ],
 "metadata": {
  "kernelspec": {
   "display_name": "Python 3",
   "language": "python",
   "name": "python3"
  },
  "language_info": {
   "codemirror_mode": {
    "name": "ipython",
    "version": 3
   },
   "file_extension": ".py",
   "mimetype": "text/x-python",
   "name": "python",
   "nbconvert_exporter": "python",
   "pygments_lexer": "ipython3",
   "version": "3.7.6"
  }
 },
 "nbformat": 4,
 "nbformat_minor": 5
}
