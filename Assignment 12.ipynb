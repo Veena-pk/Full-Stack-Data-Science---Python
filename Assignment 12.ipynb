{
 "cells": [
  {
   "cell_type": "markdown",
   "id": "287cafa5",
   "metadata": {},
   "source": [
    "### Q1"
   ]
  },
  {
   "cell_type": "code",
   "execution_count": 3,
   "id": "86d45c0c",
   "metadata": {},
   "outputs": [
    {
     "name": "stdout",
     "output_type": "stream",
     "text": [
      "The original dictionary is : {'a': [1, 2, 3, 4], 'b': [3, 2, 6, 4, 8, 5], 'c': [5, 3, 0, 6, 8], 'd': [6, 3, 4, 9, 7, 2, 1]}\n",
      "The unique values list is : [0, 1, 2, 3, 4, 5, 6, 7, 8, 9]\n"
     ]
    }
   ],
   "source": [
    "# Python program to Extract Unique dictionary values\n",
    "\n",
    "my_dict = {'a' : [1, 2, 3, 4] , 'b' : [3, 2, 6, 4, 8, 5], 'c' : [5, 3, 0, 6, 8], 'd' : [6, 3, 4, 9, 7, 2, 1] }\n",
    "print(\"The original dictionary is : \" + str(my_dict))\n",
    "\n",
    "res = list(sorted({ele for val in my_dict.values() for ele in val}))\n",
    "print(\"The unique values list is : \" + str(res))"
   ]
  },
  {
   "cell_type": "markdown",
   "id": "532c8ce3",
   "metadata": {},
   "source": [
    "### Q2"
   ]
  },
  {
   "cell_type": "code",
   "execution_count": 14,
   "id": "c85dd793",
   "metadata": {},
   "outputs": [
    {
     "name": "stdout",
     "output_type": "stream",
     "text": [
      "The sum of all items in the given dictionary is :  400\n"
     ]
    }
   ],
   "source": [
    "# Python program to find the sum of all items in a dictionary\n",
    "\n",
    "def Sum_items(dictn) :\n",
    "    final_sum = 0\n",
    "    for i in dictn :\n",
    "        final_sum = final_sum + dictn[i]\n",
    "        \n",
    "    return final_sum\n",
    "\n",
    "my_dict = {'x' : 50, 'y' : 100, 'z' : 250}\n",
    "print(\"The sum of all items in the given dictionary is : \", Sum_items(my_dict))"
   ]
  },
  {
   "cell_type": "markdown",
   "id": "ce0f4e59",
   "metadata": {},
   "source": [
    "### Q3"
   ]
  },
  {
   "cell_type": "code",
   "execution_count": 18,
   "id": "7792c5d8",
   "metadata": {},
   "outputs": [
    {
     "data": {
      "text/plain": [
       "{'x': 9, 'y': '3', 'z': 10}"
      ]
     },
     "execution_count": 18,
     "metadata": {},
     "output_type": "execute_result"
    }
   ],
   "source": [
    "# Python program to merge two Dictionaries\n",
    "\n",
    "def Merge(dict1, dict2) :\n",
    "    dict1.update(dict2)\n",
    "    return dict1\n",
    "\n",
    "dict1 = {'x' : 9, 'y' : '3'}\n",
    "dict2 = {'z' : 10}\n",
    "\n",
    "Merge(dict1, dict2)"
   ]
  },
  {
   "cell_type": "markdown",
   "id": "3728fede",
   "metadata": {},
   "source": [
    "### Q4"
   ]
  },
  {
   "cell_type": "code",
   "execution_count": 80,
   "id": "b6eab64b",
   "metadata": {},
   "outputs": [
    {
     "name": "stdout",
     "output_type": "stream",
     "text": [
      "The original dictionary is :  {'sl.no': [1, 2, 3, 4], 'name': ['Tom', 'Jerry', 'Micky', 'Minnie']}\n",
      "The flattened dictionary is :  {1: 'Tom', 2: 'Jerry', 3: 'Micky', 4: 'Minnie'}\n"
     ]
    }
   ],
   "source": [
    "# Python program to convert key-values list to flat dictionary\n",
    "\n",
    "from itertools import product\n",
    "#del dict\n",
    "my_dict = {'sl.no' : [1, 2, 3, 4], 'name' : ['Tom', 'Jerry', 'Micky', 'Minnie']}\n",
    "print(\"The original dictionary is : \",  my_dict)\n",
    "\n",
    "flat_dict = dict(zip(my_dict['sl.no'], my_dict['name']))\n",
    "\n",
    "print(\"The flattened dictionary is : \", flat_dict )"
   ]
  },
  {
   "cell_type": "markdown",
   "id": "30067040",
   "metadata": {},
   "source": [
    "### Q5"
   ]
  },
  {
   "cell_type": "code",
   "execution_count": 50,
   "id": "7f29b7c5",
   "metadata": {},
   "outputs": [
    {
     "name": "stdout",
     "output_type": "stream",
     "text": [
      "The Original Dictionary is :  OrderedDict([('1', 'Tom'), ('2', 'Jerry')])\n",
      "The Dictionary after inserting values at the begining is :  OrderedDict([('3', 'Pluto'), ('1', 'Tom'), ('2', 'Jerry')])\n"
     ]
    }
   ],
   "source": [
    "# Python program to insertion at the beginning in OrderedDict\n",
    "\n",
    "from collections import OrderedDict\n",
    "\n",
    "dict_1 = OrderedDict([('1', 'Tom'), ('2' , 'Jerry')])\n",
    "print(\"The Original Dictionary is : \", dict_1)\n",
    "dict_1.update({'3': 'Pluto'})\n",
    "dict_1.move_to_end('3', last = False)\n",
    "print(\"The Dictionary after inserting values at the begining is : \", dict_1)"
   ]
  },
  {
   "cell_type": "markdown",
   "id": "770f65a9",
   "metadata": {},
   "source": [
    "### Q6"
   ]
  },
  {
   "cell_type": "code",
   "execution_count": 59,
   "id": "6af42eda",
   "metadata": {},
   "outputs": [
    {
     "name": "stdout",
     "output_type": "stream",
     "text": [
      "True\n"
     ]
    }
   ],
   "source": [
    "# Python program to check order of character in string using OrderedDict()\n",
    "\n",
    "from collections import OrderedDict\n",
    "\n",
    "def check_order(input, pattern) :\n",
    "    dict = OrderedDict.fromkeys(input)\n",
    "    \n",
    "    patlen = 0\n",
    "    for key,value in dict.items() :\n",
    "        if (key == pattern[patlen]) :\n",
    "            patlen = patlen + 1\n",
    "            \n",
    "        if (patlen == (len(pattern))) : \n",
    "            return 'True'\n",
    "\n",
    "    return 'False'\n",
    "\n",
    "input = \"Calender\"\n",
    "pattern = \"lnr\"\n",
    "print(check_order(input, pattern))"
   ]
  },
  {
   "cell_type": "markdown",
   "id": "3c8f0829",
   "metadata": {},
   "source": [
    "### Q7"
   ]
  },
  {
   "cell_type": "code",
   "execution_count": 76,
   "id": "9c8c1313",
   "metadata": {},
   "outputs": [
    {
     "name": "stdout",
     "output_type": "stream",
     "text": [
      "The dictionary arranged by Key is : \n",
      "1 : Tom\n",
      "2 : Micky\n",
      "3 : Jerry\n",
      "4 : Minnie\n",
      "The dictionary arranged by Value is : \n",
      "[(3, 'Jerry'), (2, 'Micky'), (4, 'Minnie'), (1, 'Tom')]\n"
     ]
    }
   ],
   "source": [
    "# Python program to sort Python Dictionaries by Key or Value\n",
    "\n",
    "my_dict = {1  : 'Tom', 3 : 'Jerry', 2 :  'Micky', 4 :'Minnie'}\n",
    "\n",
    "print(\"The dictionary arranged by Key is : \")\n",
    "for key in sorted(my_dict.keys()) :\n",
    "    print(\"%s : %s\" %(key, my_dict[key]))\n",
    "    \n",
    "print(\"The dictionary arranged by Value is : \")\n",
    "print(sorted(my_dict.items(), key = lambda kv : (kv[1], kv[0])))"
   ]
  }
 ],
 "metadata": {
  "kernelspec": {
   "display_name": "Python 3",
   "language": "python",
   "name": "python3"
  },
  "language_info": {
   "codemirror_mode": {
    "name": "ipython",
    "version": 3
   },
   "file_extension": ".py",
   "mimetype": "text/x-python",
   "name": "python",
   "nbconvert_exporter": "python",
   "pygments_lexer": "ipython3",
   "version": "3.7.6"
  }
 },
 "nbformat": 4,
 "nbformat_minor": 5
}
