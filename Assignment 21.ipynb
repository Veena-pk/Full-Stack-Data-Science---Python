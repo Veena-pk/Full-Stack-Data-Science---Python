{
 "cells": [
  {
   "cell_type": "markdown",
   "id": "287cafa5",
   "metadata": {},
   "source": [
    "### Q1\n",
    "- Add the number to the end of the list, then remove the first element of the list."
   ]
  },
  {
   "cell_type": "code",
   "execution_count": 21,
   "id": "86d45c0c",
   "metadata": {},
   "outputs": [
    {
     "name": "stdout",
     "output_type": "stream",
     "text": [
      "[6, 7, 8, 9, 1]\n",
      "[6, 3, 23, 17, 10]\n",
      "[10, 20, 42, 6]\n",
      "No list has been selected\n"
     ]
    }
   ],
   "source": [
    "def next_in_line(lst, k) :\n",
    "    if lst == [] :\n",
    "        return \"No list has been selected\"\n",
    "    else :\n",
    "        lst.pop(0)\n",
    "        lst.append(k)\n",
    "        return lst\n",
    "print(next_in_line([5, 6, 7, 8, 9], 1))\n",
    "print(next_in_line([7, 6, 3, 23, 17], 10))\n",
    "print(next_in_line([1, 10, 20, 42], 6))\n",
    "print(next_in_line([], 6))"
   ]
  },
  {
   "cell_type": "markdown",
   "id": "532c8ce3",
   "metadata": {},
   "source": [
    "### Q2\n",
    "- Create the function that takes a list of dictionaries and returns the sum of people's budgets."
   ]
  },
  {
   "cell_type": "code",
   "execution_count": 66,
   "id": "c85dd793",
   "metadata": {},
   "outputs": [
    {
     "name": "stdout",
     "output_type": "stream",
     "text": [
      "65700\n",
      "62600\n"
     ]
    }
   ],
   "source": [
    "import collections  \n",
    "\n",
    "def get_budgets(lst) :\n",
    "    counter = collections.Counter()\n",
    "    for i in lst :\n",
    "        counter.update(i)\n",
    "    result = dict(counter)\n",
    "    budget = result['budget']   \n",
    "    return budget\n",
    "\n",
    "lst1 = ([{\"name\" : \"John\", \"age\": 21, \"budget\" : 23000}, \n",
    "                     {\"name\" : \"Steve\", \"age\": 32, \"budget\" : 40000}, \n",
    "                     {\"name\" : \"Martin\", \"age\": 16, \"budget\" : 2700}])\n",
    "lst2 = ([{\"name\" : \"John\", \"age\": 21, \"budget\" : 29000}, \n",
    "                     {\"name\" : \"Steve\", \"age\": 32, \"budget\" : 32000}, \n",
    "                     {\"name\" : \"Martin\", \"age\": 16, \"budget\" : 1600}])\n",
    "print(get_budgets(lst1))\n",
    "print(get_budgets(lst2))"
   ]
  },
  {
   "cell_type": "markdown",
   "id": "ce0f4e59",
   "metadata": {},
   "source": [
    "### Q3\n",
    "- Create a function that takes a string and returns a string with its letters in alphabetical order."
   ]
  },
  {
   "cell_type": "code",
   "execution_count": 68,
   "id": "7792c5d8",
   "metadata": {},
   "outputs": [
    {
     "name": "stdout",
     "output_type": "stream",
     "text": [
      "ehllo\n",
      "abdeit\n",
      "acehkr\n",
      "eegk\n",
      "aacijprstv\n"
     ]
    }
   ],
   "source": [
    "def alphabet_soup(str) :\n",
    "    return \"\".join(sorted(str))\n",
    "str1 = \"hello\"\n",
    "str2 = \"edabit\"\n",
    "str3 = \"hacker\"\n",
    "str4 = \"geek\"\n",
    "str5 = \"javascript\"\n",
    "print(alphabet_soup(str1))\n",
    "print(alphabet_soup(str2))\n",
    "print(alphabet_soup(str3))\n",
    "print(alphabet_soup(str4))\n",
    "print(alphabet_soup(str5))"
   ]
  },
  {
   "cell_type": "markdown",
   "id": "3728fede",
   "metadata": {},
   "source": [
    "### Q4\n",
    "- Python program for calculating the compound interest"
   ]
  },
  {
   "cell_type": "code",
   "execution_count": 75,
   "id": "b6eab64b",
   "metadata": {},
   "outputs": [
    {
     "name": "stdout",
     "output_type": "stream",
     "text": [
      "105.0\n",
      "15399.26\n",
      "2007316.26\n",
      "18193.97\n"
     ]
    }
   ],
   "source": [
    "#The formula to calculate CI is P(1 + r/n) ^nt , where P- Principal amt, r- rate(in decimal), n- no of compounding periods per year, t - term in yrs\n",
    "\n",
    "def compound_interest(P, t, r, n ) :\n",
    "    return round((P * (1 + (r/n)) ** (n*t)), 2)\n",
    "print(compound_interest(100, 1, 0.05, 1))\n",
    "print(compound_interest(3500, 15, 0.1, 4))\n",
    "print(compound_interest(100000, 20, 0.15, 365))\n",
    "print(compound_interest(10000, 10, 0.06, 12))"
   ]
  },
  {
   "cell_type": "markdown",
   "id": "30067040",
   "metadata": {},
   "source": [
    "### Q5\n",
    " - Write a function that takes a list of elements and returns only the integers."
   ]
  },
  {
   "cell_type": "code",
   "execution_count": 80,
   "id": "7f29b7c5",
   "metadata": {},
   "outputs": [
    {
     "name": "stdout",
     "output_type": "stream",
     "text": [
      "[9, 2, 16]\n",
      "[81, 123]\n",
      "[10, 56, 20, 3]\n",
      "[1]\n"
     ]
    }
   ],
   "source": [
    "def return_only_integer(lst) :\n",
    "    return [lst[i] for i in range(len(lst)) if type(lst[i]) == int]\n",
    "\n",
    "print(return_only_integer([9, 2, 'space', 'car', 'lion', 16]))\n",
    "print(return_only_integer(['hello', 81, 'basketball', 123, \"fox\"]))\n",
    "print(return_only_integer([10, \"121\", 56, 20, 'car', 3, 'lion']))\n",
    "print(return_only_integer([\"String\", True, 3.3, 1]))"
   ]
  }
 ],
 "metadata": {
  "kernelspec": {
   "display_name": "Python 3",
   "language": "python",
   "name": "python3"
  },
  "language_info": {
   "codemirror_mode": {
    "name": "ipython",
    "version": 3
   },
   "file_extension": ".py",
   "mimetype": "text/x-python",
   "name": "python",
   "nbconvert_exporter": "python",
   "pygments_lexer": "ipython3",
   "version": "3.7.6"
  }
 },
 "nbformat": 4,
 "nbformat_minor": 5
}
