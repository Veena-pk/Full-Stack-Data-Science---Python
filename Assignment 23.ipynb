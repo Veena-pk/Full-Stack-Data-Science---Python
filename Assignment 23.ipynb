{
 "cells": [
  {
   "cell_type": "markdown",
   "id": "287cafa5",
   "metadata": {},
   "source": [
    "### Q1\n",
    "- Create a function that takes a number as an argument and returns True or False depending on whether the number is symmetrical or not."
   ]
  },
  {
   "cell_type": "code",
   "execution_count": 65,
   "id": "86d45c0c",
   "metadata": {},
   "outputs": [
    {
     "name": "stdout",
     "output_type": "stream",
     "text": [
      "True\n",
      "False\n",
      "True\n",
      "False\n",
      "True\n"
     ]
    }
   ],
   "source": [
    "def is_symmetrical(num) :\n",
    "    return str(num) == str(num)[::-1]\n",
    "print(is_symmetrical(7227))\n",
    "print(is_symmetrical(12567))\n",
    "print(is_symmetrical(44444444))\n",
    "print(is_symmetrical(9939))\n",
    "print(is_symmetrical(1112111))"
   ]
  },
  {
   "cell_type": "markdown",
   "id": "532c8ce3",
   "metadata": {},
   "source": [
    "### Q2\n",
    "- Given a string of numbers separated by a comma and space, return the product of the numbers."
   ]
  },
  {
   "cell_type": "code",
   "execution_count": 66,
   "id": "c85dd793",
   "metadata": {},
   "outputs": [
    {
     "name": "stdout",
     "output_type": "stream",
     "text": [
      "6\n",
      "24\n",
      "0\n",
      "-20\n"
     ]
    }
   ],
   "source": [
    "def multiply_nums(string) : \n",
    "    mul = 1\n",
    "    L = [int(x) for x in string.split(', ')]\n",
    "    for i in range(len(L)) :\n",
    "        mul = mul * (L[i])\n",
    "    return mul\n",
    "print(multiply_nums(\"2, 3\"))\n",
    "print(multiply_nums(\"1, 2, 3, 4\"))\n",
    "print(multiply_nums(\"54, 75, 454, 0\"))\n",
    "print(multiply_nums(\"10, -2\"))"
   ]
  },
  {
   "cell_type": "markdown",
   "id": "ce0f4e59",
   "metadata": {},
   "source": [
    "### Q3\n",
    "- Create a function that squares every digit of a number."
   ]
  },
  {
   "cell_type": "code",
   "execution_count": 67,
   "id": "7792c5d8",
   "metadata": {},
   "outputs": [
    {
     "name": "stdout",
     "output_type": "stream",
     "text": [
      "811181\n",
      "416649\n",
      "9414\n"
     ]
    }
   ],
   "source": [
    "def square_digits(num) :\n",
    "    s = ''\n",
    "    for i in str(num) :\n",
    "        m = int(i) * int(i)\n",
    "        s = s + str(m)\n",
    "    return int(s)\n",
    "print(square_digits(9119))\n",
    "print(square_digits(2483))\n",
    "print(square_digits(3212))"
   ]
  },
  {
   "cell_type": "markdown",
   "id": "30067040",
   "metadata": {},
   "source": [
    "### Q4\n",
    "- Create a function that sorts a list and removes all duplicate items from it."
   ]
  },
  {
   "cell_type": "code",
   "execution_count": 68,
   "id": "7f29b7c5",
   "metadata": {},
   "outputs": [
    {
     "name": "stdout",
     "output_type": "stream",
     "text": [
      "[1, 3, 5]\n",
      "[4]\n",
      "[5, 7, 8, 9, 10, 15]\n",
      "[1, 2, 3]\n"
     ]
    }
   ],
   "source": [
    "def setify(lst) :\n",
    "    final_lst = list(set(lst))\n",
    "    return sorted(final_lst)\n",
    "lst1 = [1, 3,3, 5, 5]\n",
    "lst2 = [4, 4, 4, 4]\n",
    "lst3 = [5, 7, 8, 9, 10, 15]\n",
    "lst4 = [3, 3, 3, 2, 1]\n",
    "print(setify(lst1))\n",
    "print(setify(lst2))\n",
    "print(setify(lst3))\n",
    "print(setify(lst4))"
   ]
  },
  {
   "cell_type": "markdown",
   "id": "69fac196",
   "metadata": {},
   "source": [
    "### Q5\n",
    "- Create a function that returns the mean of all digits."
   ]
  },
  {
   "cell_type": "code",
   "execution_count": 69,
   "id": "4e66d1ef",
   "metadata": {},
   "outputs": [
    {
     "name": "stdout",
     "output_type": "stream",
     "text": [
      "3\n",
      "3\n",
      "6\n"
     ]
    }
   ],
   "source": [
    "def mean(num) :\n",
    "    sum = 0\n",
    "    l = len(str(num))\n",
    "    while(num > 0) :\n",
    "        sum = sum + int(num % 10)\n",
    "        num = int(num/10)\n",
    "    return int(sum/l)\n",
    "print(mean(42))\n",
    "print(mean(12345))\n",
    "print(mean(666))"
   ]
  }
 ],
 "metadata": {
  "kernelspec": {
   "display_name": "Python 3",
   "language": "python",
   "name": "python3"
  },
  "language_info": {
   "codemirror_mode": {
    "name": "ipython",
    "version": 3
   },
   "file_extension": ".py",
   "mimetype": "text/x-python",
   "name": "python",
   "nbconvert_exporter": "python",
   "pygments_lexer": "ipython3",
   "version": "3.7.6"
  }
 },
 "nbformat": 4,
 "nbformat_minor": 5
}
