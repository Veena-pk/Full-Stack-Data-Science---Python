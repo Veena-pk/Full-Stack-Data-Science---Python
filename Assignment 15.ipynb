{
 "cells": [
  {
   "cell_type": "markdown",
   "id": "287cafa5",
   "metadata": {},
   "source": [
    "### Q1\n",
    "- Please write a program using generator to print the numbers which can be divisible by 5 and 7 between 0 and n in comma separated form while n is input by console.\n",
    "Example: If the following n is given as input to the program: 100. Then, the output of the program should be: 0,35,70"
   ]
  },
  {
   "cell_type": "code",
   "execution_count": 2,
   "id": "86d45c0c",
   "metadata": {},
   "outputs": [
    {
     "name": "stdout",
     "output_type": "stream",
     "text": [
      "Enter the upper limit : 100\n",
      "The numbers divisible by 7 and 5 in the range 0 to 100 are : \n",
      "0,35,70\n"
     ]
    }
   ],
   "source": [
    "def generator(n) :\n",
    "    for i in range(n+1) :\n",
    "        if i % 35 == 0 :\n",
    "            yield i\n",
    "            \n",
    "n = int(input(\"Enter the upper limit : \"))\n",
    "out = [str(i) for i in generator(n)]\n",
    "print(\"The numbers divisible by 7 and 5 in the range 0 to {} are : \".format(n))\n",
    "print(\",\".join(out))"
   ]
  },
  {
   "cell_type": "markdown",
   "id": "532c8ce3",
   "metadata": {},
   "source": [
    "### Q2\n",
    "- Please write a program using generator to print the even numbers between 0 and n in comma separated form while n is input by console."
   ]
  },
  {
   "cell_type": "code",
   "execution_count": 3,
   "id": "c85dd793",
   "metadata": {},
   "outputs": [
    {
     "name": "stdout",
     "output_type": "stream",
     "text": [
      "Enter the upper limit : 10\n",
      "The even numbers in the range 0 to 10 are : \n",
      "0,2,4,6,8,10\n"
     ]
    }
   ],
   "source": [
    "def generator(n) :\n",
    "    for i in range(n+1) :\n",
    "        if i % 2 == 0 :\n",
    "            yield i\n",
    "            \n",
    "n = int(input(\"Enter the upper limit : \"))\n",
    "out = [str(i) for i in generator(n)]\n",
    "print(\"The even numbers in the range 0 to {} are : \".format(n))\n",
    "print(\",\".join(out))"
   ]
  },
  {
   "cell_type": "markdown",
   "id": "ce0f4e59",
   "metadata": {},
   "source": [
    "### Q3\n",
    "- write a program using list comprehension to print the Fibonacci Sequence in comma separated form with a given n input by console."
   ]
  },
  {
   "cell_type": "code",
   "execution_count": 4,
   "id": "7792c5d8",
   "metadata": {},
   "outputs": [
    {
     "name": "stdout",
     "output_type": "stream",
     "text": [
      "Enter the input : 7\n",
      "0,1,1,2,3,5,8,13\n"
     ]
    }
   ],
   "source": [
    "def fib(n) :\n",
    "    if n == 0 :\n",
    "        return 0\n",
    "    elif n == 1 :\n",
    "        return 1\n",
    "    else :\n",
    "        return fib(n-1) + fib(n-2)\n",
    "    \n",
    "n = int(input(\"Enter the input : \"))\n",
    "values = [str(fib(x)) for x in range(n+1)]\n",
    "print(\",\".join(values))"
   ]
  },
  {
   "cell_type": "markdown",
   "id": "3728fede",
   "metadata": {},
   "source": [
    "### Q4\n",
    "- write program to print the user name of a given email address."
   ]
  },
  {
   "cell_type": "code",
   "execution_count": 10,
   "id": "b6eab64b",
   "metadata": {},
   "outputs": [
    {
     "name": "stdout",
     "output_type": "stream",
     "text": [
      "Enter the email Address : john@google.com\n",
      "The username of the given email address is : \n",
      "john\n"
     ]
    }
   ],
   "source": [
    "import re\n",
    "#email = \"john@google.com\"\n",
    "email = input(\"Enter the email Address : \")\n",
    "pattern = \"(\\w+)@(\\w+)\\.com\"\n",
    "r1 = re.match(pattern, email)\n",
    "print(\"The username of the given email address is : \")\n",
    "print(r1.group(1))"
   ]
  },
  {
   "cell_type": "markdown",
   "id": "30067040",
   "metadata": {},
   "source": [
    "### Q5\n",
    "- Define a class named Shape and its subclass Square. The Square class has an init function which takes a length as argument. "
   ]
  },
  {
   "cell_type": "code",
   "execution_count": 11,
   "id": "7f29b7c5",
   "metadata": {},
   "outputs": [
    {
     "name": "stdout",
     "output_type": "stream",
     "text": [
      "25\n",
      "0\n"
     ]
    }
   ],
   "source": [
    "class Shape() :\n",
    "    def __init__(self) :\n",
    "        pass\n",
    "    \n",
    "    def area(self) :\n",
    "        return 0\n",
    "    \n",
    "class Square(Shape) :\n",
    "    def __init__(self, length = 0) :\n",
    "        Shape.__init__(self)\n",
    "        self.length = length\n",
    "        \n",
    "    def area(self) :\n",
    "        return self.length * self.length\n",
    "    \n",
    "Arsqr = Square(5)\n",
    "print(Arsqr.area())\n",
    "print(Square().area())"
   ]
  }
 ],
 "metadata": {
  "kernelspec": {
   "display_name": "Python 3",
   "language": "python",
   "name": "python3"
  },
  "language_info": {
   "codemirror_mode": {
    "name": "ipython",
    "version": 3
   },
   "file_extension": ".py",
   "mimetype": "text/x-python",
   "name": "python",
   "nbconvert_exporter": "python",
   "pygments_lexer": "ipython3",
   "version": "3.7.6"
  }
 },
 "nbformat": 4,
 "nbformat_minor": 5
}
