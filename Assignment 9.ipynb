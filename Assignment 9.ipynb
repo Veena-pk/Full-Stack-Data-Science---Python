{
 "cells": [
  {
   "cell_type": "markdown",
   "id": "de097afb",
   "metadata": {},
   "source": [
    "### Q1"
   ]
  },
  {
   "cell_type": "code",
   "execution_count": 44,
   "id": "79c35e87",
   "metadata": {},
   "outputs": [
    {
     "name": "stdout",
     "output_type": "stream",
     "text": [
      "Enter the number to check if it is a Disarium Number :   89\n",
      "The entered input 89 is a Disarium Number\n"
     ]
    }
   ],
   "source": [
    "# Program to check if the given number is a Disarium Number?\n",
    "# Disarium Number - If the sum of its digit raised to the power of their respective positions becomes equal to the number itself. eg: 175, 135, 89\n",
    "\n",
    "num = int(input(\"Enter the number to check if it is a Disarium Number :   \"))\n",
    "\n",
    "len_num = len(str(num))\n",
    "n = num\n",
    "rem = 0\n",
    "sum = 0\n",
    "\n",
    "while(num>0) :\n",
    "    rem = num % 10\n",
    "    sum = sum + int(rem ** len_num)\n",
    "    num = num // 10\n",
    "    len_num = len_num - 1\n",
    "    \n",
    "if (sum == n) :\n",
    "    print(\"The entered input {} is a Disarium Number\".format(n))\n",
    "else :\n",
    "    print(\"The entered input {} is NOT a Disarium Number\".format(n))"
   ]
  },
  {
   "cell_type": "markdown",
   "id": "1477da79",
   "metadata": {},
   "source": [
    "### Q2"
   ]
  },
  {
   "cell_type": "code",
   "execution_count": 47,
   "id": "5faa9a50",
   "metadata": {},
   "outputs": [
    {
     "name": "stdout",
     "output_type": "stream",
     "text": [
      "Disarium numbers between 1 to 100 are : \n",
      "1\n",
      "2\n",
      "3\n",
      "4\n",
      "5\n",
      "6\n",
      "7\n",
      "8\n",
      "9\n",
      "89\n"
     ]
    }
   ],
   "source": [
    "# Python program to print all disarium numbers between 1 to 100\n",
    "\n",
    "def check_disarium(n) :\n",
    "    rem = 0\n",
    "    sum = 0\n",
    "    len_num = len(str(n))\n",
    "    \n",
    "    while(n>0) :\n",
    "        rem = n % 10\n",
    "        sum = sum + int(rem ** len_num)\n",
    "        n = n // 10\n",
    "        len_num = len_num - 1\n",
    "    return sum\n",
    "\n",
    "result = 0\n",
    "\n",
    "print(\"Disarium numbers between 1 to 100 are : \")\n",
    "\n",
    "for i in range(1,101) :\n",
    "    result = check_disarium(i)\n",
    "    \n",
    "    if (result == i) :\n",
    "        print(i)"
   ]
  },
  {
   "cell_type": "markdown",
   "id": "f307e1e0",
   "metadata": {},
   "source": [
    "### Q3"
   ]
  },
  {
   "cell_type": "code",
   "execution_count": 54,
   "id": "a5860dfc",
   "metadata": {},
   "outputs": [
    {
     "name": "stdout",
     "output_type": "stream",
     "text": [
      "Enter the number to check if it is a Happy Number32\n",
      "The number 32 is a Happy Number\n"
     ]
    }
   ],
   "source": [
    "# Python program to check if the given number is Happy Number\n",
    "\n",
    "# The happy number can be defined as a number which will yield 1 when it is replaced by the sum of the square of its digits repeatedly. \n",
    "#If this process results in an endless cycle of numbers containing 4, then the number is called an unhappy number. eg : 32,19\n",
    "\n",
    "num = int(input(\"Enter the number to check if it is a Happy Number\"))\n",
    "\n",
    "def isHappyNumber(num) :\n",
    "    rem = sum = 0\n",
    "    \n",
    "    while (num > 0) :\n",
    "        rem = num % 10\n",
    "        sum = sum + (rem * rem)\n",
    "        num = num // 10\n",
    "    return sum\n",
    "\n",
    "result = num\n",
    "\n",
    "while(result != 1 and result != 4) :\n",
    "    result = isHappyNumber(result)\n",
    "    \n",
    "if (result == 1) :\n",
    "    print(\"The number {} is a Happy Number\".format(num))\n",
    "elif (result == 4) :\n",
    "    print(\"The number {} is NOT a Happy Number\".format(num))"
   ]
  },
  {
   "cell_type": "markdown",
   "id": "8fc5fefb",
   "metadata": {},
   "source": [
    "### Q4"
   ]
  },
  {
   "cell_type": "code",
   "execution_count": 65,
   "id": "11a73a22",
   "metadata": {},
   "outputs": [
    {
     "name": "stdout",
     "output_type": "stream",
     "text": [
      "The list of all Happy numbers between 1 and 100 : \n",
      "1\n",
      "7\n",
      "10\n",
      "13\n",
      "19\n",
      "23\n",
      "28\n",
      "31\n",
      "32\n",
      "44\n",
      "49\n",
      "68\n",
      "70\n",
      "79\n",
      "82\n",
      "86\n",
      "91\n",
      "94\n",
      "97\n",
      "100\n"
     ]
    }
   ],
   "source": [
    "# Python program to print all happy numbers between 1 and 100\n",
    "\n",
    "def isHappyNumber(num) :\n",
    "    rem = sum = 0\n",
    "\n",
    "    while (num > 0) :\n",
    "        rem = num % 10\n",
    "        sum = sum + (rem * rem)\n",
    "        num = num // 10\n",
    "    return sum\n",
    "\n",
    "print(\"The list of all Happy numbers between 1 and 100 : \")\n",
    "for i in range(1, 101) :\n",
    "    result = i\n",
    "    \n",
    "    while(result != 1 and result != 4) :\n",
    "        result = isHappyNumber(result)\n",
    "    \n",
    "    if (result == 1) :\n",
    "        print(i)       "
   ]
  },
  {
   "cell_type": "markdown",
   "id": "24c2ec4f",
   "metadata": {},
   "source": [
    "### Q5"
   ]
  },
  {
   "cell_type": "code",
   "execution_count": 71,
   "id": "9c454826",
   "metadata": {},
   "outputs": [
    {
     "name": "stdout",
     "output_type": "stream",
     "text": [
      "Enter the number to check if it is a Harshad Number : 55\n",
      "The given number 55 is NOT a Harshad number\n"
     ]
    }
   ],
   "source": [
    "# Python program to determine whether the given number is a Harshad Number\n",
    "#Harshad Number - Number divisible by the sum of its digits. eg : 3, 8, 18, 54, 120, 156\n",
    "\n",
    "num = int(input(\"Enter the number to check if it is a Harshad Number : \"))\n",
    "rem = sum = 0\n",
    "n = num\n",
    "\n",
    "while(num > 0) :\n",
    "    rem = num % 10\n",
    "    sum = sum + rem\n",
    "    num = num // 10\n",
    "    \n",
    "if (n % sum == 0) :\n",
    "    print(\"The given number {} is a Harshad number\".format(n))\n",
    "else :\n",
    "    print(\"The given number {} is NOT a Harshad number\".format(n))"
   ]
  },
  {
   "cell_type": "markdown",
   "id": "ad8ab8fa",
   "metadata": {},
   "source": [
    "### Q6"
   ]
  },
  {
   "cell_type": "code",
   "execution_count": 73,
   "id": "ed360e92",
   "metadata": {},
   "outputs": [
    {
     "name": "stdout",
     "output_type": "stream",
     "text": [
      "Pronic numbers between 1 and 100 : \n",
      "2\n",
      "6\n",
      "12\n",
      "20\n",
      "30\n",
      "42\n",
      "56\n",
      "72\n",
      "90\n"
     ]
    }
   ],
   "source": [
    "#Python program to print all pronic numbers between 1 and 100\n",
    "#Pronic number is a product of 2 consecutive integers. eg : 6 (3 *2 ), 72(8*9)\n",
    "\n",
    "def checkPronicNum(num) :\n",
    "    flag = False\n",
    "    \n",
    "    for i in range(1, num+1) :\n",
    "        if ((i * (i+1)) == num) :\n",
    "            flag = True\n",
    "            break\n",
    "    return flag\n",
    "\n",
    "print(\"Pronic numbers between 1 and 100 : \")\n",
    "for i in range(1, 101) :\n",
    "    if(checkPronicNum(i)) :\n",
    "        print(i)"
   ]
  }
 ],
 "metadata": {
  "kernelspec": {
   "display_name": "Python 3",
   "language": "python",
   "name": "python3"
  },
  "language_info": {
   "codemirror_mode": {
    "name": "ipython",
    "version": 3
   },
   "file_extension": ".py",
   "mimetype": "text/x-python",
   "name": "python",
   "nbconvert_exporter": "python",
   "pygments_lexer": "ipython3",
   "version": "3.7.6"
  }
 },
 "nbformat": 4,
 "nbformat_minor": 5
}
