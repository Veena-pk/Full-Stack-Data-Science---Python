{
 "cells": [
  {
   "cell_type": "markdown",
   "id": "287cafa5",
   "metadata": {},
   "source": [
    "### Q1\n",
    "- Create a function that takes a string and returns a string in which each character is repeated once."
   ]
  },
  {
   "cell_type": "code",
   "execution_count": 18,
   "id": "86d45c0c",
   "metadata": {},
   "outputs": [
    {
     "name": "stdout",
     "output_type": "stream",
     "text": [
      "Enter the String : Hello World!\n"
     ]
    },
    {
     "data": {
      "text/plain": [
       "'HHeelllloo  WWoorrlldd!!'"
      ]
     },
     "execution_count": 18,
     "metadata": {},
     "output_type": "execute_result"
    }
   ],
   "source": [
    "def double_char(string) :\n",
    "    out_str = \"\"\n",
    "    for char in string :\n",
    "        out_str = out_str + (char * 2)\n",
    "    return out_str\n",
    "\n",
    "s = input(\"Enter the String : \")\n",
    "double_char(s)"
   ]
  },
  {
   "cell_type": "markdown",
   "id": "532c8ce3",
   "metadata": {},
   "source": [
    "### Q2\n",
    "- Create a function that reverses a boolean value and returns the string \"boolean expected\" if another variable type is given."
   ]
  },
  {
   "cell_type": "code",
   "execution_count": 23,
   "id": "c85dd793",
   "metadata": {},
   "outputs": [
    {
     "name": "stdout",
     "output_type": "stream",
     "text": [
      "False\n",
      "True\n",
      "boolean expected\n",
      "boolean expected\n"
     ]
    }
   ],
   "source": [
    "def reverse(arg = None) :\n",
    "    return not arg if type(arg) == bool else \"boolean expected\"\n",
    "print(reverse(True))\n",
    "print(reverse(False))\n",
    "print(reverse(0))\n",
    "print(reverse(None))"
   ]
  },
  {
   "cell_type": "markdown",
   "id": "ce0f4e59",
   "metadata": {},
   "source": [
    "### Q3\n",
    "- A function that returns thickness (in m) of a piece of paper after folding it n no of times. The paper starts off with a thickness of 0.5mm."
   ]
  },
  {
   "cell_type": "code",
   "execution_count": 40,
   "id": "7792c5d8",
   "metadata": {},
   "outputs": [
    {
     "name": "stdout",
     "output_type": "stream",
     "text": [
      "1048.576 m\n"
     ]
    }
   ],
   "source": [
    "def num_layers(a) :\n",
    "    res = 0.5\n",
    "    for i in range(a) :\n",
    "        res = res * 2\n",
    "    return res / 1000\n",
    "\n",
    "print(num_layers(21), 'm')"
   ]
  },
  {
   "cell_type": "markdown",
   "id": "3728fede",
   "metadata": {},
   "source": [
    "### Q4\n",
    "- Create a function that takes a single string as argument and returns an ordered list containing the indices of all capital letters in the string."
   ]
  },
  {
   "cell_type": "code",
   "execution_count": 48,
   "id": "b6eab64b",
   "metadata": {},
   "outputs": [
    {
     "name": "stdout",
     "output_type": "stream",
     "text": [
      "Enter the String : eQuINoX\n",
      "The original String is :  eQuINoX\n",
      "The Indices of Capital Letters are :  [1, 3, 4, 6]\n"
     ]
    }
   ],
   "source": [
    "s = input(\"Enter the String : \")\n",
    "print(\"The original String is : \", s)\n",
    "res = [i for i in range(len(s)) if s[i].isupper()]\n",
    "print(\"The Indices of Capital Letters are : \", res)"
   ]
  },
  {
   "cell_type": "markdown",
   "id": "30067040",
   "metadata": {},
   "source": [
    "### Q5\n",
    "- Using list comprehensions, create a function that finds all even numbers from 1 to the given number."
   ]
  },
  {
   "cell_type": "code",
   "execution_count": 54,
   "id": "7f29b7c5",
   "metadata": {},
   "outputs": [
    {
     "name": "stdout",
     "output_type": "stream",
     "text": [
      "[2, 4, 6, 8]\n",
      "[2, 4]\n",
      "[2]\n"
     ]
    }
   ],
   "source": [
    "def find_even_nums(n) :\n",
    "    return [i for i in range(1, n+1) if i%2 == 0]\n",
    "print(find_even_nums(8))\n",
    "print(find_even_nums(4))\n",
    "print(find_even_nums(2))"
   ]
  }
 ],
 "metadata": {
  "kernelspec": {
   "display_name": "Python 3",
   "language": "python",
   "name": "python3"
  },
  "language_info": {
   "codemirror_mode": {
    "name": "ipython",
    "version": 3
   },
   "file_extension": ".py",
   "mimetype": "text/x-python",
   "name": "python",
   "nbconvert_exporter": "python",
   "pygments_lexer": "ipython3",
   "version": "3.7.6"
  }
 },
 "nbformat": 4,
 "nbformat_minor": 5
}
