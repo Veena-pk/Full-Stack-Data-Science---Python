{
 "cells": [
  {
   "cell_type": "markdown",
   "id": "287cafa5",
   "metadata": {},
   "source": [
    "### Q1\n",
    "- Write a function that stutters a word as if someone is struggling to read it."
   ]
  },
  {
   "cell_type": "code",
   "execution_count": 10,
   "id": "86d45c0c",
   "metadata": {},
   "outputs": [
    {
     "name": "stdout",
     "output_type": "stream",
     "text": [
      "Enter the word :  outstanding\n"
     ]
    },
    {
     "data": {
      "text/plain": [
       "'ou... ou... outstanding?'"
      ]
     },
     "execution_count": 10,
     "metadata": {},
     "output_type": "execute_result"
    }
   ],
   "source": [
    "def stutter(word) :\n",
    "    return (2*(word[ : 2] + '... ')) + word + '?'\n",
    "st = input(\"Enter the word :  \")\n",
    "stutter(st)"
   ]
  },
  {
   "cell_type": "markdown",
   "id": "532c8ce3",
   "metadata": {},
   "source": [
    "### Q2\n",
    "- Create a function that takes an angle in radians and returns the corresponding angle in degrees rounded to one decimal place."
   ]
  },
  {
   "cell_type": "code",
   "execution_count": 13,
   "id": "c85dd793",
   "metadata": {},
   "outputs": [
    {
     "name": "stdout",
     "output_type": "stream",
     "text": [
      "Enter the value to be converted to degree : 50\n"
     ]
    },
    {
     "data": {
      "text/plain": [
       "2864.8"
      ]
     },
     "execution_count": 13,
     "metadata": {},
     "output_type": "execute_result"
    }
   ],
   "source": [
    "def convert_to_degrees(radian) :\n",
    "    pi = 3.14159\n",
    "    degree = radian * (180/ pi)\n",
    "    return round(degree, 1)\n",
    "\n",
    "radian = int(input(\"Enter the value to be converted to degree : \"))\n",
    "convert_to_degrees(radian)"
   ]
  },
  {
   "cell_type": "markdown",
   "id": "ce0f4e59",
   "metadata": {},
   "source": [
    "### Q3\n",
    "- establish if a given integer num is a Curzon number."
   ]
  },
  {
   "cell_type": "code",
   "execution_count": 16,
   "id": "7792c5d8",
   "metadata": {},
   "outputs": [
    {
     "name": "stdout",
     "output_type": "stream",
     "text": [
      "Enter the number to check for Curzon number : 14\n",
      "True\n"
     ]
    }
   ],
   "source": [
    "def checkCurzon(num) :\n",
    "    numer, denom = 0, 0\n",
    "    \n",
    "    numer = pow(2, num) + 1\n",
    "    denom = 2 * num + 1\n",
    "    \n",
    "    if (numer % denom == 0) :\n",
    "        print(\"True\")\n",
    "    else :\n",
    "        print(\"False\")\n",
    "        \n",
    "num = int(input(\"Enter the number to check for Curzon number : \"))\n",
    "checkCurzon(num)"
   ]
  },
  {
   "cell_type": "markdown",
   "id": "3728fede",
   "metadata": {},
   "source": [
    "### Q4\n",
    "- Given the side length x find the area of a hexagon."
   ]
  },
  {
   "cell_type": "code",
   "execution_count": 21,
   "id": "b6eab64b",
   "metadata": {},
   "outputs": [
    {
     "name": "stdout",
     "output_type": "stream",
     "text": [
      "Enter the side length of the hexagon : 3\n"
     ]
    },
    {
     "data": {
      "text/plain": [
       "23.4"
      ]
     },
     "execution_count": 21,
     "metadata": {},
     "output_type": "execute_result"
    }
   ],
   "source": [
    "import math\n",
    "\n",
    "def hexArea(l) :\n",
    "    return round((3 * math.sqrt(3) * (l * l)) / 2, 1)\n",
    "\n",
    "length = int(input(\"Enter the side length of the hexagon : \"))\n",
    "hexArea(length)"
   ]
  },
  {
   "cell_type": "markdown",
   "id": "30067040",
   "metadata": {},
   "source": [
    "### Q5\n",
    "- Create a function that returns a base-2 (binary) representation of a base-10 (decimal) string number."
   ]
  },
  {
   "cell_type": "code",
   "execution_count": 25,
   "id": "7f29b7c5",
   "metadata": {},
   "outputs": [
    {
     "name": "stdout",
     "output_type": "stream",
     "text": [
      "Enter the number to be converted to binary : 10\n",
      "1010"
     ]
    }
   ],
   "source": [
    "def decimal_binary(num) :\n",
    "    binary_num = [0] * num\n",
    "    \n",
    "    i = 0\n",
    "    while num > 0 : \n",
    "        binary_num[i] = num % 2\n",
    "        num = int(num/2)\n",
    "        i = i + 1\n",
    "        \n",
    "    for j in range(i-1, -1, -1) :\n",
    "        print(binary_num[j], end = \"\")\n",
    "        \n",
    "num = int(input(\"Enter the number to be converted to binary : \"))\n",
    "decimal_binary(num)"
   ]
  }
 ],
 "metadata": {
  "kernelspec": {
   "display_name": "Python 3",
   "language": "python",
   "name": "python3"
  },
  "language_info": {
   "codemirror_mode": {
    "name": "ipython",
    "version": 3
   },
   "file_extension": ".py",
   "mimetype": "text/x-python",
   "name": "python",
   "nbconvert_exporter": "python",
   "pygments_lexer": "ipython3",
   "version": "3.7.6"
  }
 },
 "nbformat": 4,
 "nbformat_minor": 5
}
