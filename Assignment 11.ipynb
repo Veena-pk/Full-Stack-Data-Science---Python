{
 "cells": [
  {
   "cell_type": "markdown",
   "id": "f2db134d",
   "metadata": {},
   "source": [
    "### Q1"
   ]
  },
  {
   "cell_type": "code",
   "execution_count": 9,
   "id": "838c69f6",
   "metadata": {},
   "outputs": [
    {
     "name": "stdout",
     "output_type": "stream",
     "text": [
      "The original string is   :  Today is another chance to get better\n",
      "Input the value of n : 3\n",
      "The words that are greater in length than 3 are : \n",
      "['Today', 'another', 'chance', 'better']\n"
     ]
    }
   ],
   "source": [
    "# Python program to find words which are greater than given length k\n",
    "\n",
    "def string_n(n, str_in) :\n",
    "    string = []\n",
    "    \n",
    "    word = str_in.split(\" \")\n",
    "    \n",
    "    for x in word :\n",
    "        if len(x) > n :\n",
    "            string.append(x)\n",
    "    return string\n",
    "\n",
    "str_in = \"Today is another chance to get better\"\n",
    "print(\"The original string is   : \", str_in)\n",
    "n = int(input(\"Input the value of n : \"))\n",
    "print(\"The words that are greater in length than {} are : \".format(n))\n",
    "print(string_n(n, str_in))"
   ]
  },
  {
   "cell_type": "markdown",
   "id": "428d8d6f",
   "metadata": {},
   "source": [
    "### Q2"
   ]
  },
  {
   "cell_type": "code",
   "execution_count": 19,
   "id": "dd30cbdd",
   "metadata": {},
   "outputs": [
    {
     "name": "stdout",
     "output_type": "stream",
     "text": [
      "The original string is  :   Deployment\n",
      "Enter the index of the character to be removed :  2\n",
      "The string after removing the 2th character is :  Deloyment \n"
     ]
    }
   ],
   "source": [
    "# Python program for removing i-th character from a string\n",
    "\n",
    "def remove(i, str_in) :\n",
    "    str_out = []\n",
    "    a = str_in[ : i]\n",
    "    b = str_in[i+1 : ]\n",
    "    str_out = a + b\n",
    "    return str_out\n",
    "\n",
    "string = \"Deployment\"\n",
    "print(\"The original string is  :  \", string)\n",
    "n = int(input(\"Enter the index of the character to be removed :  \"))\n",
    "str_out = remove(n, string)\n",
    "print(\"The string after removing the {}th character is :  {} \".format(n, str_out))"
   ]
  },
  {
   "cell_type": "markdown",
   "id": "535b3565",
   "metadata": {},
   "source": [
    "### Q3"
   ]
  },
  {
   "cell_type": "code",
   "execution_count": 23,
   "id": "ac72d5fd",
   "metadata": {},
   "outputs": [
    {
     "name": "stdout",
     "output_type": "stream",
     "text": [
      "The string before splitting is :  Work hard in silence\n",
      "The string after splitting is :  ['Work', 'hard', 'in', 'silence']\n",
      "The string before splitting is :  ['Stop', 'saying', 'tomorrow']\n",
      "The string after joining is :  Stop saying tomorrow\n"
     ]
    }
   ],
   "source": [
    "# Python program to split and join a string\n",
    "\n",
    "def split_str(string_in) :\n",
    "    str_list = string_in.split(' ')\n",
    "    return str_list\n",
    "\n",
    "def join_str(string_in) :\n",
    "    str_joined = ' '.join(string_in)\n",
    "    return str_joined\n",
    "\n",
    "str1 = \"Work hard in silence\"\n",
    "print(\"The string before splitting is : \", str1)\n",
    "print(\"The string after splitting is : \", split_str(str1))\n",
    "\n",
    "str2 = ['Stop', 'saying', 'tomorrow']\n",
    "print(\"The string before splitting is : \", str2)\n",
    "print(\"The string after joining is : \", join_str(str2))"
   ]
  },
  {
   "cell_type": "markdown",
   "id": "d4f565b0",
   "metadata": {},
   "source": [
    "### Q4"
   ]
  },
  {
   "cell_type": "code",
   "execution_count": 94,
   "id": "6d5b81ff",
   "metadata": {},
   "outputs": [
    {
     "name": "stdout",
     "output_type": "stream",
     "text": [
      "The given string is NOT a binary string\n",
      "The given string is a binary string\n"
     ]
    }
   ],
   "source": [
    "#Python to check if a given string is binary string or not\n",
    "\n",
    "def check(string) :\n",
    "   \n",
    "    s = '01'\n",
    "    flag = 0\n",
    "    \n",
    "    for char in string :\n",
    "        \n",
    "        if char not in s :\n",
    "            flag = 1\n",
    "            break\n",
    "        else :\n",
    "            pass\n",
    "    \n",
    "    if flag :\n",
    "        print(\"The given string is NOT a binary string\")\n",
    "    else :\n",
    "        print(\"The given string is a binary string\")\n",
    "        \n",
    "string = \"10110311011000110\"\n",
    "check(string)\n",
    "string1 = \"10110101001110\"\n",
    "check(string1)"
   ]
  },
  {
   "cell_type": "markdown",
   "id": "c7b4cc9b",
   "metadata": {},
   "source": [
    "### Q5"
   ]
  },
  {
   "cell_type": "code",
   "execution_count": 56,
   "id": "29796141",
   "metadata": {},
   "outputs": [
    {
     "name": "stdout",
     "output_type": "stream",
     "text": [
      "  this is a to find written\n"
     ]
    }
   ],
   "source": [
    "# Python program to find uncommon words from two Strings\n",
    "\n",
    "def uncommon(a, b) :\n",
    "    list_a = a.split()\n",
    "    list_b = b.split()\n",
    "    uncom = ' '\n",
    "    \n",
    "    for i in list_a :\n",
    "        if i not in list_b :\n",
    "            uncom = uncom + \" \" + i\n",
    "    \n",
    "    for j in list_b :\n",
    "        if j not in list_a :\n",
    "            uncom = uncom + \" \" + j\n",
    "            \n",
    "    return uncom\n",
    "\n",
    "a = \" this is a program to find uncommon words\"\n",
    "b = \"  uncommon words program written\"\n",
    "print(uncommon(a, b))"
   ]
  },
  {
   "cell_type": "markdown",
   "id": "0b0c686f",
   "metadata": {},
   "source": [
    "### Q6"
   ]
  },
  {
   "cell_type": "code",
   "execution_count": 70,
   "id": "973580a6",
   "metadata": {},
   "outputs": [
    {
     "name": "stdout",
     "output_type": "stream",
     "text": [
      "The string entered is :  malayalam\n",
      "The duplicate characters in the given string is : \n",
      "m\n",
      "a\n",
      "l\n"
     ]
    }
   ],
   "source": [
    "# Python program to find all duplicate characters in string\n",
    "\n",
    "\n",
    "def find_duplicate(string) :\n",
    "    for i in range(0, len(string)) :\n",
    "        count = 1\n",
    "        for j in range(i+1, len(string)) :\n",
    "            if (string[i] == string[j] and string[i] != \" \") :\n",
    "                count = count + 1\n",
    "                string = string[ : j] + '0' + string[j+1 : ]\n",
    "                \n",
    "        if (count > 1 and string[i] != '0') :\n",
    "            print(string[i])\n",
    "            \n",
    "str_in = \"malayalam\"\n",
    "print(\"The string entered is : \", str_in)\n",
    "print(\"The duplicate characters in the given string is : \")\n",
    "find_duplicate(str_in)"
   ]
  },
  {
   "cell_type": "markdown",
   "id": "a93c166a",
   "metadata": {},
   "source": [
    "### Q7"
   ]
  },
  {
   "cell_type": "code",
   "execution_count": 79,
   "id": "9e5d73ff",
   "metadata": {},
   "outputs": [
    {
     "name": "stdout",
     "output_type": "stream",
     "text": [
      "The string have some special characters in it\n",
      "The string does not have any special characters in it\n"
     ]
    }
   ],
   "source": [
    "# Python Program to check if a string contains any special character\n",
    "\n",
    "import re\n",
    "\n",
    "def check_sc(string) :\n",
    "    regex = re.compile('[@_!#$%^&*()<>?/\\|}{~:]')\n",
    "    \n",
    "    if (regex.search(string) == None) :\n",
    "        print(\"The string does not have any special characters in it\")\n",
    "    else :\n",
    "        print(\"The string have some special characters in it\")\n",
    "        \n",
    "string1 = \"Data$cience\"\n",
    "check_sc(string1)\n",
    "string2 = \"DataScience\"\n",
    "check_sc(string2)"
   ]
  }
 ],
 "metadata": {
  "kernelspec": {
   "display_name": "Python 3",
   "language": "python",
   "name": "python3"
  },
  "language_info": {
   "codemirror_mode": {
    "name": "ipython",
    "version": 3
   },
   "file_extension": ".py",
   "mimetype": "text/x-python",
   "name": "python",
   "nbconvert_exporter": "python",
   "pygments_lexer": "ipython3",
   "version": "3.7.6"
  }
 },
 "nbformat": 4,
 "nbformat_minor": 5
}
