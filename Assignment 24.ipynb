{
 "cells": [
  {
   "cell_type": "markdown",
   "id": "287cafa5",
   "metadata": {},
   "source": [
    "### Q1\n",
    "- Create a function that takes an integer and returns a list from 1 to the given number"
   ]
  },
  {
   "cell_type": "code",
   "execution_count": 22,
   "id": "86d45c0c",
   "metadata": {},
   "outputs": [
    {
     "data": {
      "text/plain": [
       "[1, 2, 3, 40, 5, 6, 7, 80, 9, 10, 11, 120, 13, 14, 15, 160, 17, 18, 19, 200]"
      ]
     },
     "execution_count": 22,
     "metadata": {},
     "output_type": "execute_result"
    }
   ],
   "source": [
    "def amplify(n) :\n",
    "    return [i*10  if i % 4 == 0 else i for i in range(1, n+1)]\n",
    "amplify(20)"
   ]
  },
  {
   "cell_type": "markdown",
   "id": "532c8ce3",
   "metadata": {},
   "source": [
    "### Q2\n",
    "- Create a function that takes a list of numbers and return the number that's unique."
   ]
  },
  {
   "cell_type": "code",
   "execution_count": 41,
   "id": "c85dd793",
   "metadata": {},
   "outputs": [
    {
     "name": "stdout",
     "output_type": "stream",
     "text": [
      "7\n",
      "0.77\n",
      "0\n"
     ]
    }
   ],
   "source": [
    "def unique(l) :\n",
    "    s = list(set(l))\n",
    "    count_ele1 = count_ele2 = 0\n",
    "    for i in range(len(l)) :\n",
    "        if l[i] == s[0] :\n",
    "            count_ele1 = count_ele1 + 1\n",
    "        else :\n",
    "            count_ele2 = count_ele2 + 1\n",
    "    if count_ele1 == 1 :\n",
    "        return s[0]\n",
    "    else :\n",
    "        return s[1]\n",
    "        \n",
    "l1 = [3, 3, 3, 7, 3, 3]\n",
    "l2 = [0, 0, 0.77, 0, 0]\n",
    "l3 = [0, 1, 1, 1, 1, 1, 1, 1]\n",
    "print(unique(l1))\n",
    "print(unique(l2))\n",
    "print(unique(l3))"
   ]
  },
  {
   "cell_type": "markdown",
   "id": "ce0f4e59",
   "metadata": {},
   "source": [
    "### Q3\n",
    "- Create a Circle constructor that creates a circle"
   ]
  },
  {
   "cell_type": "code",
   "execution_count": 55,
   "id": "7792c5d8",
   "metadata": {},
   "outputs": [
    {
     "name": "stdout",
     "output_type": "stream",
     "text": [
      "380\n",
      "28\n"
     ]
    }
   ],
   "source": [
    "import math\n",
    "pi = math.pi\n",
    "class Circle() :\n",
    "    def __init__(self, r) :\n",
    "        self.radius = r\n",
    "        \n",
    "    def getArea(self) :\n",
    "        return round(self.radius **2 * pi)\n",
    "    \n",
    "    def getPerimeter(self) :\n",
    "        return round(self.radius * 2 * pi)\n",
    "    \n",
    "circy = Circle(11)\n",
    "print(circy.getArea())\n",
    "\n",
    "circy = Circle(4.44)\n",
    "print(circy.getPerimeter())"
   ]
  },
  {
   "cell_type": "markdown",
   "id": "3728fede",
   "metadata": {},
   "source": [
    "### Q4\n",
    "- Create a function that takes a list of strings and return a list, sorted from shortest to longest."
   ]
  },
  {
   "cell_type": "code",
   "execution_count": 28,
   "id": "b6eab64b",
   "metadata": {},
   "outputs": [
    {
     "name": "stdout",
     "output_type": "stream",
     "text": [
      "['Apple', 'Google', 'Microsoft']\n",
      "['Raphael', 'Leonardo', 'Donatello', 'Michelangelo']\n",
      "['Jung', 'Turing', 'Einstein']\n"
     ]
    }
   ],
   "source": [
    "def sort_by_length(lst) :\n",
    "    lst.sort(key = len)\n",
    "    return lst\n",
    "\n",
    "print(sort_by_length([\"Google\", \"Apple\", \"Microsoft\"]))\n",
    "print(sort_by_length([\"Leonardo\", \"Michelangelo\", \"Raphael\", \"Donatello\"]))\n",
    "print(sort_by_length([\"Turing\", \"Einstein\", \"Jung\"]))"
   ]
  },
  {
   "cell_type": "markdown",
   "id": "30067040",
   "metadata": {},
   "source": [
    "### Q5\n",
    "- Create a function that validates whether three given integers form a Pythagorean triplet."
   ]
  },
  {
   "cell_type": "code",
   "execution_count": 38,
   "id": "7f29b7c5",
   "metadata": {},
   "outputs": [
    {
     "name": "stdout",
     "output_type": "stream",
     "text": [
      "True\n",
      "True\n",
      "False\n"
     ]
    }
   ],
   "source": [
    "def is_triplet(a, b, c) :\n",
    "    z = max(a, b, c)\n",
    "    x = min(a, b, c)\n",
    "    y = (a+b+c) - x - z\n",
    "    return x ** 2 + y ** 2 == z ** 2\n",
    "        \n",
    "print(is_triplet(3,4,5))\n",
    "print(is_triplet(13,5, 12))\n",
    "print(is_triplet(1, 2, 3))"
   ]
  }
 ],
 "metadata": {
  "kernelspec": {
   "display_name": "Python 3",
   "language": "python",
   "name": "python3"
  },
  "language_info": {
   "codemirror_mode": {
    "name": "ipython",
    "version": 3
   },
   "file_extension": ".py",
   "mimetype": "text/x-python",
   "name": "python",
   "nbconvert_exporter": "python",
   "pygments_lexer": "ipython3",
   "version": "3.7.6"
  }
 },
 "nbformat": 4,
 "nbformat_minor": 5
}
