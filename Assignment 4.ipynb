{
 "cells": [
  {
   "cell_type": "markdown",
   "metadata": {},
   "source": [
    "### Q1"
   ]
  },
  {
   "cell_type": "code",
   "execution_count": 1,
   "metadata": {},
   "outputs": [
    {
     "name": "stdout",
     "output_type": "stream",
     "text": [
      "Enter the number to find the factorial :        10\n",
      "The facorial of input number is 3628800\n"
     ]
    }
   ],
   "source": [
    "# Python program to find factorial of a number\n",
    "\n",
    "# n! = n * (n-1) * (n-2) * ...... * 3 * 2 * 1 . eg : 5! = 120\n",
    "\n",
    "m = int(input(\"Enter the number to find the factorial :        \"))\n",
    "f = 1\n",
    "\n",
    "while m > 1 :\n",
    "    f = f * m\n",
    "    m = m - 1\n",
    "print(\"The facorial of input number is {}\".format(f))"
   ]
  },
  {
   "cell_type": "markdown",
   "metadata": {},
   "source": [
    "### Q2"
   ]
  },
  {
   "cell_type": "code",
   "execution_count": 2,
   "metadata": {},
   "outputs": [
    {
     "name": "stdout",
     "output_type": "stream",
     "text": [
      "Enter the number to display the multiplication table for :     11\n",
      "Multiplication table for  11\n",
      "1 * 11 = 11\n",
      "2 * 11 = 22\n",
      "3 * 11 = 33\n",
      "4 * 11 = 44\n",
      "5 * 11 = 55\n",
      "6 * 11 = 66\n",
      "7 * 11 = 77\n",
      "8 * 11 = 88\n",
      "9 * 11 = 99\n",
      "10 * 11 = 110\n"
     ]
    }
   ],
   "source": [
    "# Python program to display the multiplication table\n",
    "\n",
    "m = int(input(\"Enter the number to display the multiplication table for :     \"))\n",
    "\n",
    "print (\"Multiplication table for \", m)\n",
    "for i in range(1, 11) :\n",
    "    n = i * m\n",
    "    print(i , \"*\", m, \"=\", n)"
   ]
  },
  {
   "cell_type": "markdown",
   "metadata": {},
   "source": [
    "### Q3"
   ]
  },
  {
   "cell_type": "code",
   "execution_count": 3,
   "metadata": {},
   "outputs": [
    {
     "name": "stdout",
     "output_type": "stream",
     "text": [
      "Enter the range till which you want to print the fibonacci sequence:     7\n",
      "The fibonacci series up to  7  is :  [0, 1, 1, 2, 3, 5, 8]\n"
     ]
    }
   ],
   "source": [
    "# Python program to print the Fibonacci sequence\n",
    "\n",
    "# Sequence where each number is the sum of the two preceding ones, starting from 0 and 1\n",
    "\n",
    "n = int(input(\"Enter the range till which you want to print the fibonacci sequence:     \"))\n",
    "\n",
    "n1 = 0\n",
    "n2 = 1\n",
    "s = 0\n",
    "l = [0, 1]\n",
    "\n",
    "if n == 0 :\n",
    "    print(\"Enter a number greater than 0\")\n",
    "elif n == 1 :\n",
    "    print(\"The fibonacci series up to 1 is : \", 0, \",\", 1)\n",
    "else :\n",
    "    while s < n :\n",
    "        s = n1 + n2\n",
    "        l.append(s)\n",
    "        n1, n2 = n2, s\n",
    "    print(\"The fibonacci series up to \", n , \" is : \", l)\n"
   ]
  },
  {
   "cell_type": "code",
   "execution_count": 10,
   "metadata": {},
   "outputs": [
    {
     "name": "stdout",
     "output_type": "stream",
     "text": [
      "How many terms? 7\n",
      "Fibonacci sequence:\n",
      "0\n",
      "1\n",
      "1\n",
      "2\n",
      "3\n",
      "5\n",
      "8\n"
     ]
    }
   ],
   "source": [
    "# Program to display the Fibonacci sequence up to n-th term\n",
    "\n",
    "nterms = int(input(\"How many terms? \"))\n",
    "\n",
    "# first two terms\n",
    "n1, n2 = 0, 1\n",
    "count = 0\n",
    "\n",
    "# check if the number of terms is valid\n",
    "if nterms <= 0:\n",
    "    print(\"Please enter a positive integer\")\n",
    "elif nterms == 1:\n",
    "    print(\"Fibonacci sequence upto\",nterms,\":\")\n",
    "    print(n1)\n",
    "else:\n",
    "    print(\"Fibonacci sequence:\")\n",
    "    while count < nterms:\n",
    "        print(n1)\n",
    "        nth = n1 + n2\n",
    "       # update values\n",
    "        n1 = n2\n",
    "        n2 = nth\n",
    "        count += 1"
   ]
  },
  {
   "cell_type": "markdown",
   "metadata": {},
   "source": [
    "### Q4"
   ]
  },
  {
   "cell_type": "code",
   "execution_count": 13,
   "metadata": {},
   "outputs": [
    {
     "name": "stdout",
     "output_type": "stream",
     "text": [
      "Enter the number to check for Armstrong number :        54748\n",
      "The input 54748 is an Armstrong number\n"
     ]
    }
   ],
   "source": [
    "# Python program to find if a number is an Armstrong number\n",
    "\n",
    "#The n-digit numbers equal to the sum of nth powers of their digits (a finite sequence) are called Armstrong numbers or plus perfect number. \n",
    "#Eg: 1,2,3,4,5,6,7,8,9, 153, 370, 371, 407, 1634, 8208, 9474, 54748\n",
    "\n",
    "n = int(input(\"Enter the number to check for Armstrong number :        \"))\n",
    "c= len(str(n))\n",
    "s = 0\n",
    "x = n\n",
    "\n",
    "while x > 0 :\n",
    "    r = x % 10\n",
    "    s = s + (r ** c )\n",
    "    x = int(x / 10)\n",
    "    \n",
    "if (n == s) : \n",
    "    print(\"The input {} is an Armstrong number\". format(n))\n",
    "else :\n",
    "    print(\"The input {} is NOT an Armstrong number\". format(n))\n"
   ]
  },
  {
   "cell_type": "markdown",
   "metadata": {},
   "source": [
    "#### Q5"
   ]
  },
  {
   "cell_type": "code",
   "execution_count": 6,
   "metadata": {},
   "outputs": [
    {
     "name": "stdout",
     "output_type": "stream",
     "text": [
      "Enter the start of the interval:        1\n",
      "Enter the stop of the interval:          100000\n",
      "The list of Armstrong numbers in the intervel 1 : 100000 is  [1, 2, 3, 4, 5, 6, 7, 8, 9, 153, 370, 371, 407, 1634, 8208, 9474, 54748, 92727, 93084]\n"
     ]
    }
   ],
   "source": [
    "# Python program to find Armstrong number in an interval\n",
    "\n",
    "a = int(input(\"Enter the start of the interval:        \"))\n",
    "b = int(input(\"Enter the stop of the interval:          \"))\n",
    "l = []\n",
    "\n",
    "for i in range(a, b + 1) :\n",
    "    s = 0\n",
    "    c = len(str(i))\n",
    "    m = i\n",
    "    while i > 0 :\n",
    "        r = i % 10\n",
    "        s = s + (r ** c )\n",
    "        i = int(i / 10)\n",
    "    if (m == s) :\n",
    "        l.append(m)\n",
    "print(\"The list of Armstrong numbers in the intervel {} : {} is \".format(a,b), l)"
   ]
  },
  {
   "cell_type": "markdown",
   "metadata": {},
   "source": [
    "### Q6"
   ]
  },
  {
   "cell_type": "code",
   "execution_count": 14,
   "metadata": {},
   "outputs": [
    {
     "name": "stdout",
     "output_type": "stream",
     "text": [
      "Enter the number:       1000\n",
      "The sum of first 1000 natural numbers is 500500\n"
     ]
    }
   ],
   "source": [
    "# Python program to find sum of natural numbers\n",
    "\n",
    "#Formula for sum of first n natural numbers is (n * (n+1))/2\n",
    "\n",
    "n = int(input(\"Enter the number:       \"))\n",
    "s = 0\n",
    "\n",
    "for i in range(1,n + 1) :\n",
    "    s = s + i\n",
    "\n",
    "print(\"The sum of first {} natural numbers is {}\".format(n,s))"
   ]
  }
 ],
 "metadata": {
  "kernelspec": {
   "display_name": "Python 3",
   "language": "python",
   "name": "python3"
  },
  "language_info": {
   "codemirror_mode": {
    "name": "ipython",
    "version": 3
   },
   "file_extension": ".py",
   "mimetype": "text/x-python",
   "name": "python",
   "nbconvert_exporter": "python",
   "pygments_lexer": "ipython3",
   "version": "3.7.6"
  }
 },
 "nbformat": 4,
 "nbformat_minor": 4
}
