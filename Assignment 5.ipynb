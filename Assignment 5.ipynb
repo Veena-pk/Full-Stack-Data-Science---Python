{
 "cells": [
  {
   "cell_type": "markdown",
   "metadata": {},
   "source": [
    "### Q1"
   ]
  },
  {
   "cell_type": "code",
   "execution_count": 7,
   "metadata": {},
   "outputs": [
    {
     "name": "stdout",
     "output_type": "stream",
     "text": [
      "Enter the first number:        2\n",
      "Enter the second number:        5\n",
      "The LCM of 2 and 5 is 10\n"
     ]
    }
   ],
   "source": [
    "# Program to find LCM\n",
    "\n",
    "def get_lcm(x, y) :\n",
    "    \n",
    "    if x > y :\n",
    "        greater = x\n",
    "    else :\n",
    "        greater = y\n",
    "        \n",
    "    while(True) :\n",
    "        \n",
    "        if ((greater % x == 0) and (greater % y == 0)) :\n",
    "            lcm = greater\n",
    "            break\n",
    "        \n",
    "        greater = greater + 1\n",
    "    \n",
    "    return lcm\n",
    "\n",
    "num1 = int(input(\"Enter the first number:        \"))\n",
    "num2 = int(input(\"Enter the second number:        \"))\n",
    "\n",
    "lcm = get_lcm(num1, num2)\n",
    "\n",
    "print(\"The LCM of {} and {} is {}\".format(num1, num2, lcm))"
   ]
  },
  {
   "cell_type": "markdown",
   "metadata": {},
   "source": [
    "### Q2"
   ]
  },
  {
   "cell_type": "code",
   "execution_count": 14,
   "metadata": {},
   "outputs": [
    {
     "name": "stdout",
     "output_type": "stream",
     "text": [
      "Enter the first number:        3\n",
      "Enter the second number:        11\n",
      "The HCF of 3 and 11 is 1\n"
     ]
    }
   ],
   "source": [
    "#Program to find HCF\n",
    "\n",
    "def get_hcf(x, y) :\n",
    "    \n",
    "    if x > y :\n",
    "        smaller = y\n",
    "    else :\n",
    "        smaller = x\n",
    "        \n",
    "    for i in range(1, smaller+1) :\n",
    "        if ((x % i == 0) and (y % i == 0)) :\n",
    "            hcf = i\n",
    "    \n",
    "    return hcf\n",
    "\n",
    "num1 = int(input(\"Enter the first number:        \"))\n",
    "num2 = int(input(\"Enter the second number:        \"))\n",
    "\n",
    "hcf = get_hcf(num1, num2)\n",
    "\n",
    "print(\"The HCF of {} and {} is {}\".format(num1, num2, hcf))"
   ]
  },
  {
   "cell_type": "markdown",
   "metadata": {},
   "source": [
    "### Q3"
   ]
  },
  {
   "cell_type": "code",
   "execution_count": 19,
   "metadata": {},
   "outputs": [
    {
     "name": "stdout",
     "output_type": "stream",
     "text": [
      "Enter the number to be converted:         16\n",
      "The decimal number 16 in Binary is 0b10000\n",
      "The decimal number 16 in Octal is 0o20\n",
      "The decimal number 16 in Hexadecimal is 0x10\n"
     ]
    }
   ],
   "source": [
    "#Program to convert Decimal to Binary, Octal, and Hexadecimal\n",
    "\n",
    "num = int(input(\"Enter the number to be converted:         \"))\n",
    "\n",
    "bin1 = bin(num)\n",
    "oct1 = oct(num)\n",
    "hex1 = hex(num)\n",
    "\n",
    "print(\"The decimal number {} in Binary is {}\".format(num, bin1))\n",
    "print(\"The decimal number {} in Octal is {}\".format(num, oct1))\n",
    "print(\"The decimal number {} in Hexadecimal is {}\".format(num, hex1))"
   ]
  },
  {
   "cell_type": "markdown",
   "metadata": {},
   "source": [
    "### Q4"
   ]
  },
  {
   "cell_type": "code",
   "execution_count": 22,
   "metadata": {},
   "outputs": [
    {
     "name": "stdout",
     "output_type": "stream",
     "text": [
      "Enter the charater to find the corresponding ASCII value:     v\n",
      "The ASCII value of vis 118\n"
     ]
    }
   ],
   "source": [
    "#Find ASCII value of a character\n",
    "\n",
    "char = input(\"Enter the charater to find the corresponding ASCII value:     \")\n",
    "\n",
    "print(\"The ASCII value of \" +char+ \"is\", ord(char))"
   ]
  },
  {
   "cell_type": "markdown",
   "metadata": {},
   "source": [
    "### Q5"
   ]
  },
  {
   "cell_type": "code",
   "execution_count": 29,
   "metadata": {},
   "outputs": [
    {
     "name": "stdout",
     "output_type": "stream",
     "text": [
      "Please select an option from the available operation choices\n",
      "A. Add\n",
      "B. Subtract\n",
      "C. Multiply\n",
      "D. Divide\n",
      "Please enter a choice (A/ B/ C/ D):      A\n",
      "Enter the first number:       30\n",
      "Enter the second number:       70\n",
      "30  +  70  =  100\n"
     ]
    }
   ],
   "source": [
    "# Simple Calculator with 4 basic mathematical operation\n",
    "\n",
    "#Add Function\n",
    "def add(x, y) :\n",
    "    return(x + y)\n",
    "\n",
    "#Subtract Function\n",
    "def subtract(x, y) :\n",
    "    return(x - y)\n",
    "\n",
    "#Multiply Function\n",
    "def multiply(x, y) :\n",
    "    return(x * y)\n",
    "\n",
    "#Divide Function\n",
    "def divide(x, y) :\n",
    "    return(x / y)\n",
    "\n",
    "print(\"Please select an option from the available operation choices\")\n",
    "print(\"A. Add\")\n",
    "print(\"B. Subtract\")\n",
    "print(\"C. Multiply\")\n",
    "print(\"D. Divide\")\n",
    "\n",
    "choice = input(\"Please enter a choice (A/ B/ C/ D):      \")\n",
    "\n",
    "num_1 = int(input(\"Enter the first number:       \"))\n",
    "num_2 = int(input(\"Enter the second number:       \"))\n",
    "\n",
    "if choice == 'A' :\n",
    "    print(num_1, \" + \", num_2, \" = \", add(num_1, num_2))\n",
    "    \n",
    "elif choice == 'B' :\n",
    "    print(num_1, \" - \", num_2, \" = \", subtract(num_1, num_2))\n",
    "    \n",
    "elif choice == 'C' :\n",
    "    print(num_1, \" * \", num_2, \" = \", multiply(num_1, num_2))\n",
    "    \n",
    "elif choice == 'D' :\n",
    "    print(num_1, \" / \", num_2, \" = \", divide(num_1, num_2))\n",
    "    \n",
    "else :\n",
    "    print(\"This is an invalid input\")"
   ]
  }
 ],
 "metadata": {
  "kernelspec": {
   "display_name": "Python 3",
   "language": "python",
   "name": "python3"
  },
  "language_info": {
   "codemirror_mode": {
    "name": "ipython",
    "version": 3
   },
   "file_extension": ".py",
   "mimetype": "text/x-python",
   "name": "python",
   "nbconvert_exporter": "python",
   "pygments_lexer": "ipython3",
   "version": "3.7.6"
  }
 },
 "nbformat": 4,
 "nbformat_minor": 4
}
