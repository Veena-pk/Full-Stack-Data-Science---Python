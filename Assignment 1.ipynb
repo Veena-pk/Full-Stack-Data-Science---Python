{
 "cells": [
  {
   "cell_type": "markdown",
   "metadata": {},
   "source": [
    "### Q1"
   ]
  },
  {
   "cell_type": "code",
   "execution_count": 1,
   "metadata": {},
   "outputs": [
    {
     "name": "stdout",
     "output_type": "stream",
     "text": [
      "Hello Python\n"
     ]
    }
   ],
   "source": [
    "# Python Program to print \"Hello Python\"\n",
    "\n",
    "print(\"Hello Python\")"
   ]
  },
  {
   "cell_type": "markdown",
   "metadata": {},
   "source": [
    "### Q2"
   ]
  },
  {
   "cell_type": "code",
   "execution_count": 13,
   "metadata": {},
   "outputs": [
    {
     "name": "stdout",
     "output_type": "stream",
     "text": [
      "Enter first number:    4\n",
      "Enter the second number:   3\n",
      "The sum of two input numbers 4 and 3 is 7\n",
      "The result of division of 4 by 3 is 1.33\n"
     ]
    }
   ],
   "source": [
    "# Python program to do arithmatical operations - Addition and Division\n",
    "\n",
    "a = int(input(\"Enter first number:    \"))\n",
    "b = int(input(\"Enter the second number:   \"))\n",
    "\n",
    "s = a + b\n",
    "d = round(a / b, 2)\n",
    "\n",
    "print(\"The sum of two input numbers {} and {} is\".format(a,b), s)\n",
    "print(\"The result of division of {} by {} is\".format(a,b) , d)"
   ]
  },
  {
   "cell_type": "markdown",
   "metadata": {},
   "source": [
    "### Q3"
   ]
  },
  {
   "cell_type": "code",
   "execution_count": 16,
   "metadata": {},
   "outputs": [
    {
     "name": "stdout",
     "output_type": "stream",
     "text": [
      "Enter the base of the tringle:     34\n",
      "Enter the height of the triangle:    67\n",
      "The area of the triangle with base 34 and height 67 is 1139.0\n"
     ]
    }
   ],
   "source": [
    "# Python program to find area of a triangle (from base and height)\n",
    "\n",
    "b = int(input(\"Enter the base of the tringle:     \"))\n",
    "h = int(input(\"Enter the height of the triangle:    \"))\n",
    "\n",
    "a = 0.5 * b * h\n",
    "\n",
    "print(\"The area of the triangle with base {} and height {} is\".format(b,h), a)"
   ]
  },
  {
   "cell_type": "markdown",
   "metadata": {},
   "source": [
    "### Q4"
   ]
  },
  {
   "cell_type": "code",
   "execution_count": 20,
   "metadata": {},
   "outputs": [
    {
     "name": "stdout",
     "output_type": "stream",
     "text": [
      "Enter the first variable:     14\n",
      "Enter the second variable:    34\n",
      "The swaped variables are a = 34 and b = 14\n"
     ]
    }
   ],
   "source": [
    "# Python program to swap two variables\n",
    "\n",
    "a = input(\"Enter the first variable:     \")\n",
    "b = input(\"Enter the second variable:    \")\n",
    "\n",
    "temp = a\n",
    "a = b\n",
    "b = temp\n",
    "\n",
    "print(\"The swaped variables are a = {} and b = {}\". format(a,b))"
   ]
  },
  {
   "cell_type": "markdown",
   "metadata": {},
   "source": [
    "### Q5"
   ]
  },
  {
   "cell_type": "code",
   "execution_count": 7,
   "metadata": {},
   "outputs": [
    {
     "name": "stdout",
     "output_type": "stream",
     "text": [
      "94\n"
     ]
    }
   ],
   "source": [
    "# Python program to generate a random number\n",
    "\n",
    "import random\n",
    "\n",
    "print(random.randint(0,100))"
   ]
  },
  {
   "cell_type": "code",
   "execution_count": null,
   "metadata": {},
   "outputs": [],
   "source": []
  }
 ],
 "metadata": {
  "kernelspec": {
   "display_name": "Python 3",
   "language": "python",
   "name": "python3"
  },
  "language_info": {
   "codemirror_mode": {
    "name": "ipython",
    "version": 3
   },
   "file_extension": ".py",
   "mimetype": "text/x-python",
   "name": "python",
   "nbconvert_exporter": "python",
   "pygments_lexer": "ipython3",
   "version": "3.7.6"
  }
 },
 "nbformat": 4,
 "nbformat_minor": 4
}
