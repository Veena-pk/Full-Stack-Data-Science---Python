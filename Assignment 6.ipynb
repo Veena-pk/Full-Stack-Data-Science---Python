{
 "cells": [
  {
   "cell_type": "markdown",
   "id": "aedc3ed6",
   "metadata": {},
   "source": [
    "### Q1"
   ]
  },
  {
   "cell_type": "code",
   "execution_count": 17,
   "id": "a46e8d9c",
   "metadata": {},
   "outputs": [
    {
     "name": "stdout",
     "output_type": "stream",
     "text": [
      "How many terms?:       1\n",
      "Fibonacci sequence : \n",
      "0\n"
     ]
    }
   ],
   "source": [
    "#Fibonacci Sequence Using Recursion\n",
    "\n",
    "def fibo(n) :\n",
    "    if n <= 1 :\n",
    "        return n\n",
    "    else :\n",
    "        return (fibo(n-1) + fibo(n-2))\n",
    "    \n",
    "nterms = int(input(\"How many terms?:       \"))\n",
    "\n",
    "if nterms <= 0 :\n",
    "    print(\"Please enter a positive number\")\n",
    "else :\n",
    "    print(\"Fibonacci sequence : \")\n",
    "    \n",
    "    for i in range(nterms) :\n",
    "        print(fibo(i))"
   ]
  },
  {
   "cell_type": "markdown",
   "id": "137c5547",
   "metadata": {},
   "source": [
    "### Q2"
   ]
  },
  {
   "cell_type": "code",
   "execution_count": 21,
   "id": "dcf32b75",
   "metadata": {},
   "outputs": [
    {
     "name": "stdout",
     "output_type": "stream",
     "text": [
      "Enter the number to find factorial :        5\n",
      "The factorial of  5 is 120\n"
     ]
    }
   ],
   "source": [
    "#Factorial of Number Using Recursion\n",
    "\n",
    "def facto(n) :\n",
    "    if n == 1 :\n",
    "        return n\n",
    "    else :\n",
    "        return (n * facto(n-1))\n",
    "\n",
    "num = int(input(\"Enter the number to find factorial :        \"))\n",
    "\n",
    "if num < 0 :\n",
    "    print(\"Factorial does not exist for negative numbers.\")\n",
    "\n",
    "elif num == 0 :\n",
    "    print(\"The factorial of 0 is 1.\")\n",
    "\n",
    "else :\n",
    "    print(\"The factorial of \", num, \"is\", facto(num))"
   ]
  },
  {
   "cell_type": "markdown",
   "id": "cb2ae4da",
   "metadata": {},
   "source": [
    "### Q3"
   ]
  },
  {
   "cell_type": "code",
   "execution_count": 27,
   "id": "3a194c9d",
   "metadata": {},
   "outputs": [
    {
     "name": "stdout",
     "output_type": "stream",
     "text": [
      "Enter your height in Meter :       1.55\n",
      "Enter your height in Kilogram :     55\n",
      "Your Body Mass Index is 22.89\n"
     ]
    }
   ],
   "source": [
    "#Calculate your Body Mass Index?\n",
    "\n",
    "def BMI(height, weight) :\n",
    "    bmi = round(weight/ (height * height), 2 )\n",
    "    return bmi\n",
    "\n",
    "height = float(input(\"Enter your height in Meter :       \"))\n",
    "weight = float(input(\"Enter your height in Kilogram :     \"))\n",
    "bmi = BMI(height, weight)\n",
    "print(\"Your Body Mass Index is {}\".format(bmi))"
   ]
  },
  {
   "cell_type": "markdown",
   "id": "2741a9ba",
   "metadata": {},
   "source": [
    "### Q4"
   ]
  },
  {
   "cell_type": "code",
   "execution_count": 31,
   "id": "818bfa7a",
   "metadata": {},
   "outputs": [
    {
     "name": "stdout",
     "output_type": "stream",
     "text": [
      "Enter the number to find natural logarithm:       10\n",
      "The natural logarithm of 10 is 2.302585092994046\n"
     ]
    }
   ],
   "source": [
    "#Calculate the natural logarithm of any number\n",
    "\n",
    "import math\n",
    "\n",
    "num = int(input(\"Enter the number to find natural logarithm:       \"))\n",
    "log_num = math.log(num)\n",
    "\n",
    "print(\"The natural logarithm of {} is {}\".format(num, log_num))"
   ]
  },
  {
   "cell_type": "markdown",
   "id": "0b38bdb2",
   "metadata": {},
   "source": [
    "### Q5"
   ]
  },
  {
   "cell_type": "code",
   "execution_count": 33,
   "id": "0c5922cf",
   "metadata": {},
   "outputs": [
    {
     "name": "stdout",
     "output_type": "stream",
     "text": [
      "Enter the number:     7\n",
      "The Cube sum of first 7 natural numbers is 784\n"
     ]
    }
   ],
   "source": [
    "#Cube sum of first n natural numbers\n",
    "\n",
    "def sum_num(n) :\n",
    "    sum = 0\n",
    "    for i in range(1, n+1) :\n",
    "        sum = sum + (i * i* i)\n",
    "    return sum\n",
    "\n",
    "num = int(input(\"Enter the number:     \"))\n",
    "\n",
    "sum = sum_num(num)\n",
    "\n",
    "print(\"The Cube sum of first {} natural numbers is {}\".format(num, sum))"
   ]
  }
 ],
 "metadata": {
  "kernelspec": {
   "display_name": "Python 3",
   "language": "python",
   "name": "python3"
  },
  "language_info": {
   "codemirror_mode": {
    "name": "ipython",
    "version": 3
   },
   "file_extension": ".py",
   "mimetype": "text/x-python",
   "name": "python",
   "nbconvert_exporter": "python",
   "pygments_lexer": "ipython3",
   "version": "3.7.6"
  }
 },
 "nbformat": 4,
 "nbformat_minor": 5
}
